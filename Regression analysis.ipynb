{
 "cells": [
  {
   "cell_type": "markdown",
   "id": "8d4e6ea9-20ad-4689-b82c-02a41c20c854",
   "metadata": {},
   "source": [
    "# Analysis of the influence of each media channel on the organic consumers using Regression Analysis and Synthetic AB testing\n",
    "## Two media channels just appeared and there is not enough data to analyse their influence using regression analysis. \n",
    "## Therefore, the following algorithm is proposed for the analysis:\n",
    "### 1. Regression analysis on the period where media_channel_4 and media_channel_5 were not launched.\n",
    "### 2. Influence analysis of media_channel_4 on period where media_channel_5 were not launched. Using regression created before the prediction of organic consumers was estimated and the difference in means is assessed (AB test). Average residuals are estimated to test the hypothesis that the media_channel_4 influences organic consumers. The effect of media_channel_4 is calculated by dividing the average residuals of organic consumers by the average media_channel_4 spend.\n",
    "### 3. On the last period (where media_channel_4 and media_channel_5 were launched) the influence of media_channel_5 is analyzed. The prediction of organic consumers for this period is performed using regression created and the effect of media_channel_4 (prediction = regression_prediction + media_channel_4 spend * media_channel_4 effect). Based on the obtained forecast for this period, the effect of the media channel is calculated by dividing the average residuals of organic consumers by the average media_channel_5 spend."
   ]
  },
  {
   "cell_type": "code",
   "execution_count": null,
   "id": "55d6a747-a4fe-40f5-aafb-cbed50d70b9e",
   "metadata": {},
   "outputs": [],
   "source": [
    "%matplotlib inline\n",
    "\n",
    "import pandas as pd\n",
    "import numpy as np\n",
    "import matplotlib.pyplot as plt\n",
    "import math\n",
    "import warnings\n",
    "warnings.filterwarnings('ignore')\n",
    "import seaborn as sns"
   ]
  },
  {
   "cell_type": "code",
   "execution_count": null,
   "id": "1ef962e3-6c7f-4677-a138-83f74954ae74",
   "metadata": {},
   "outputs": [],
   "source": [
    "from scipy import stats\n",
    "import scipy.stats as stats\n",
    "from scipy.stats import uniform, binom, norm, kstest, shapiro \n",
    "\n",
    "import statsmodels.api as sm\n",
    "import statsmodels.formula.api as smf\n",
    "import statsmodels.stats.diagnostic as smd\n",
    "from statsmodels.stats.outliers_influence import variance_inflation_factor\n",
    "from statsmodels.stats.stattools import durbin_watson\n",
    "from statsmodels.stats.diagnostic import het_white\n",
    "from statsmodels.stats.diagnostic import het_goldfeldquandt\n",
    "from statsmodels.stats.diagnostic import acorr_breusch_godfrey"
   ]
  },
  {
   "cell_type": "code",
   "execution_count": null,
   "id": "da0a7e65-abc1-4033-a445-62a41096b301",
   "metadata": {
    "scrolled": true
   },
   "outputs": [],
   "source": [
    "df = pd.read_excel(f'Data_frame.xlsx')"
   ]
  },
  {
   "cell_type": "markdown",
   "id": "0f2d5f6a-a90b-4218-b7c6-8b2dbec297c5",
   "metadata": {},
   "source": [
    "# EDA (Exploratary Data Analysis)"
   ]
  },
  {
   "cell_type": "code",
   "execution_count": null,
   "id": "0467c54a-3304-4adc-bb68-93a61dcb7db1",
   "metadata": {
    "scrolled": true
   },
   "outputs": [],
   "source": [
    "df.describe()"
   ]
  },
  {
   "cell_type": "markdown",
   "id": "f50c66e5-fb73-4c19-8def-a9a070f7cac0",
   "metadata": {},
   "source": [
    "## Correlation between variables"
   ]
  },
  {
   "cell_type": "code",
   "execution_count": null,
   "id": "19f996e5-930d-433c-9e98-97d30e00111e",
   "metadata": {},
   "outputs": [],
   "source": [
    "corr = df.drop('organics', axis=1).corr()"
   ]
  },
  {
   "cell_type": "code",
   "execution_count": null,
   "id": "81b1447c-4582-4604-b266-fa1a86fde4ec",
   "metadata": {},
   "outputs": [],
   "source": [
    "plt.figure(figsize=(8, 6))\n",
    "\n",
    "sns.heatmap(corr[(corr >= 0.5) | (corr <= -0.4)], \n",
    "            cmap='viridis', vmax=1.0, vmin=-1.0, linewidths=0.1,\n",
    "            annot=True, annot_kws={\"size\": 6}, square=True);"
   ]
  },
  {
   "cell_type": "markdown",
   "id": "15fc66e2-ee3b-40a6-8b04-4a4a169f5e7e",
   "metadata": {},
   "source": [
    "## Data distribution"
   ]
  },
  {
   "cell_type": "code",
   "execution_count": null,
   "id": "0042bceb-8099-42dd-8973-8ec2c17912bc",
   "metadata": {},
   "outputs": [],
   "source": [
    "# data distibution for detecting outliers\n",
    "for i in range(0, len(df.columns), 5): \t\n",
    "        sns.pairplot(data=df,  \t\t\t\t\n",
    "\t\tx_vars=df.columns[i:i+5], \n",
    "\t\ty_vars=['organics'])"
   ]
  },
  {
   "cell_type": "code",
   "execution_count": null,
   "id": "e25ae3a3-2bbc-46ec-ad2c-ca28fa1b0c05",
   "metadata": {},
   "outputs": [],
   "source": [
    "# deleting outliers\n",
    "df = df.drop(index = [15, 17]).reset_index(drop = True)"
   ]
  },
  {
   "cell_type": "code",
   "execution_count": null,
   "id": "cf614cdb-a95b-4b1c-81d5-b03622297117",
   "metadata": {},
   "outputs": [],
   "source": [
    "# data distibution after deleting outliers\n",
    "for i in range(0, len(df.columns), 5):\n",
    "    sns.pairplot(data=df,\n",
    "                x_vars=df.columns[i:i+5],\n",
    "                y_vars=['organics'])"
   ]
  },
  {
   "cell_type": "markdown",
   "id": "5df79922-9696-47f3-b1da-b859020c0a07",
   "metadata": {},
   "source": [
    "## Making square and log vaiables"
   ]
  },
  {
   "cell_type": "code",
   "execution_count": null,
   "id": "58292812-c812-431a-bfda-cae5bb8090bc",
   "metadata": {
    "scrolled": true
   },
   "outputs": [],
   "source": [
    "# if there is a nonlinear relationship then \n",
    "df['media_channel_1_sqr'] = df.media_channel_1**2\n",
    "df['media_channel_2_sqr'] = df.media_channel_2**2\n",
    "df['media_channel_3_sqr'] = df.media_channel_3**2\n",
    "\n",
    "df['media_channel_1_log'] = np.log(1 + df.media_channel_1)\n",
    "df['media_channel_2_log'] = np.log(1 + df.media_channel_2)\n",
    "df['media_channel_3_log'] = np.log(1 + df.media_channel_3)"
   ]
  },
  {
   "cell_type": "code",
   "execution_count": null,
   "id": "0e3abfb8-2378-4399-b9df-a01568130a20",
   "metadata": {
    "scrolled": true
   },
   "outputs": [],
   "source": [
    "df.describe()"
   ]
  },
  {
   "cell_type": "markdown",
   "id": "cc6ec3ba-00c6-4e04-96d2-8328337e464a",
   "metadata": {},
   "source": [
    "# First model "
   ]
  },
  {
   "cell_type": "markdown",
   "id": "1c1ca2c3-dd35-4c15-8098-48bfc8ec5318",
   "metadata": {},
   "source": [
    "## 1 period\n",
    "### Regression analysis on the period where media_channel_4 and media_channel_5 were not launched."
   ]
  },
  {
   "cell_type": "code",
   "execution_count": null,
   "id": "eefecd8b-e268-407f-bce6-2b5c5fdd147b",
   "metadata": {},
   "outputs": [],
   "source": [
    "# creation of dataframes \n",
    "# period where media_channel_4 and media_channel_5 were not launched\n",
    "period_nothing = 202402\n",
    "df_nothing = df.query(f\"yyyymm < {period_nothing}\")\n",
    "df_prediction = df.query(f\"yyyymm >= {period_nothing}\")"
   ]
  },
  {
   "cell_type": "code",
   "execution_count": null,
   "id": "a98e5811-4f7b-48d0-a532-f4d0d3abbc97",
   "metadata": {},
   "outputs": [],
   "source": [
    "# regression\n",
    "result = smf.ols(formula = 'organics ~ media_channel_1 + media_channel_2 + media_channel_3', data = df_nothing).fit(cov_type = 'HC0')\n",
    "\n",
    "# prediction\n",
    "predictions = result.predict(df_prediction[['media_channel_1', 'media_channel_2', 'media_channel_3']])\n",
    "df_prediction['organics_predict'] = predictions\n",
    "df_prediction.loc[:,['organics','organics_predict']].plot()"
   ]
  },
  {
   "cell_type": "code",
   "execution_count": null,
   "id": "656941a5-ebfe-4a25-b1f0-4ac5d1c2efdb",
   "metadata": {},
   "outputs": [],
   "source": [
    "result.summary()"
   ]
  },
  {
   "cell_type": "code",
   "execution_count": null,
   "id": "e085ec78-ae2e-4c07-8d42-f6166820d603",
   "metadata": {
    "scrolled": true
   },
   "outputs": [],
   "source": [
    "# Hypothesis about linear restictions\n",
    "variables = ['media_channel_1', 'media_channel_2', 'media_channel_3']\n",
    "for i in variables:\n",
    "    wald_test = result.wald_test(f'({i} = 0)')\n",
    "    if wald_test.pvalue < 0.05:\n",
    "        print(f'{i} != 0: {wald_test.pvalue}')\n",
    "    else:\n",
    "        print(f'{i} = 0: {wald_test.pvalue}')"
   ]
  },
  {
   "cell_type": "code",
   "execution_count": null,
   "id": "ef4582a1-de4b-46ae-a6f4-a346465e4dca",
   "metadata": {},
   "outputs": [],
   "source": [
    "# Hypothesis about the equality of variables\n",
    "# p-value < 0.5: the compared variables have significantly different effects\n",
    "t_test = result.t_test(\"media_channel_1 = media_channel_2\")\n",
    "print('media_channel_1 = media_channel_2', t_test)\n",
    "\n",
    "t_test = result.t_test(\"media_channel_1 = media_channel_3\")\n",
    "print('media_channel_1 = media_channel_3', t_test)\n",
    "\n",
    "t_test = result.t_test(\"media_channel_2 = media_channel_3\")\n",
    "print('media_channel_2 = media_channel_3', t_test)"
   ]
  },
  {
   "cell_type": "code",
   "execution_count": null,
   "id": "d77c99a7-8618-414e-918d-c025adc1d53d",
   "metadata": {},
   "outputs": [],
   "source": [
    "# Hypothesis about missing variables\n",
    "resettest = smd.linear_reset(res = result, power = 2, test_type = 'fitted', use_f = True)\n",
    "if resettest.pvalue < 0.05:\n",
    "    print(f'result has missing values: {resettest.pvalue}')\n",
    "else:\n",
    "    print(f'result has no missing values: {resettest.pvalue}')"
   ]
  },
  {
   "cell_type": "code",
   "execution_count": null,
   "id": "58d70474-d502-4f50-b55c-31207f62649b",
   "metadata": {},
   "outputs": [],
   "source": [
    "df_prediction['yyyymm'] = df_prediction['yyyymm'].astype(str)\n",
    "df_prediction.plot(x='yyyymm', y=['organics', 'organics_predict'], figsize=(45, 10), ax=plt.gca())\n",
    "\n",
    "plt.xticks(ticks=range(len(df_prediction['yyyymm'])), labels=df_prediction['yyyymm'], rotation=45)\n",
    "plt.grid(alpha=0.3)\n",
    "\n",
    "plt.savefig(f'data_prediction.pdf', dpi=300)"
   ]
  },
  {
   "cell_type": "markdown",
   "id": "cf1a25eb-684f-4435-85ff-90d42141ec14",
   "metadata": {},
   "source": [
    "# 2 period\n",
    "### Influence analysis of media_channel_4 on period where media_channel_5 were not launched. Using regression created before the prediction of organic consumers was estimated and the difference in means is assessed (AB test). Average residuals are estimated to test the hypothesis that the media_channel_4 influences organic consumers. The effect of media_channel_4 is calculated by dividing the average residuals of organic consumers by the average media_channel_4 spend."
   ]
  },
  {
   "cell_type": "code",
   "execution_count": null,
   "id": "35d908a1-f021-4e29-b302-69229d21e973",
   "metadata": {},
   "outputs": [],
   "source": [
    "# predicting organic consumers on the 2nd period\n",
    "period_1 = 202410\n",
    "df_prediction['yyyymm'] = df_prediction['yyyymm'].astype(int)\n",
    "df_2_period = df_prediction.query(f\"yyyymm  >= {period_nothing} and yyyymm < {period_1}\")\n",
    "\n",
    "# calculating the effect of the media_channel_4\n",
    "df_2_period['residuals'] = df_2_period.organics - df_2_period.organics_predict\n",
    "period2_effect = df_2_period.residuals.mean()/df_2_period.media_channel_4_spend.mean()\n",
    "\n",
    "print(f'media_channel_4: {period2_effect}')"
   ]
  },
  {
   "cell_type": "code",
   "execution_count": null,
   "id": "82ddfbc3-daaa-4878-a497-2c745f2b47d1",
   "metadata": {},
   "outputs": [],
   "source": [
    "df_2_period.residuals"
   ]
  },
  {
   "cell_type": "code",
   "execution_count": null,
   "id": "36a99a60-bdd8-472d-ad75-1bc2d7471b73",
   "metadata": {},
   "outputs": [],
   "source": [
    "# Bootstrapping to check the hypothesis that media_channel_4 affects organic consumers\n",
    "n_iterations = 100 # Number of bootstrap samples\n",
    "sample_means = []  # List to store the mean of each bootstrap sample\n",
    "np.random.seed(42)\n",
    "for i in range(n_iterations):\n",
    "    sample = np.random.choice(df_2_period.residuals, size=len(df_2_period.residuals), replace=True)\n",
    "    sample_means.append(np.mean(sample))"
   ]
  },
  {
   "cell_type": "code",
   "execution_count": null,
   "id": "242b1b45-0098-42c0-988d-c8273ef60698",
   "metadata": {},
   "outputs": [],
   "source": [
    "sample_m = pd.DataFrame(sample_means)\n",
    "sample_m.describe()"
   ]
  },
  {
   "cell_type": "code",
   "execution_count": null,
   "id": "3ba9756a-8203-4ead-895c-bd9f428f6dc2",
   "metadata": {},
   "outputs": [],
   "source": [
    "# Quantile values\n",
    "Q1 = np.percentile(sample_means, 2.5, interpolation = 'midpoint')\n",
    "Q2 = np.percentile(sample_means, 50, interpolation = 'midpoint')\n",
    "Q3 = np.percentile(sample_means, 97.5, interpolation = 'midpoint')\n",
    "\n",
    "print(f\" Q1 = {Q1},  Q2 = {Q2},  Q3 = {Q3}\")"
   ]
  },
  {
   "cell_type": "code",
   "execution_count": null,
   "id": "b1beb579-86ab-4fc6-b257-75344e7458ae",
   "metadata": {},
   "outputs": [],
   "source": [
    "# Histogram of residuals\n",
    "plt.figure(figsize=(10, 6))\n",
    "sns.histplot(sample_means, kde=True)\n",
    "plt.title('Distribution of Bootstrap Sample Mean')\n",
    "plt.xlabel(\"Mean of residuals\")\n",
    "plt.ylabel('Frequency')\n",
    "plt.show()"
   ]
  },
  {
   "cell_type": "markdown",
   "id": "67566d59-4e5d-4433-8c9c-3fffc806fe61",
   "metadata": {},
   "source": [
    "![My Image](images/Residuals.png)"
   ]
  },
  {
   "cell_type": "code",
   "execution_count": null,
   "id": "0b329f07-2f24-41e2-b95e-03a3a67c2804",
   "metadata": {},
   "outputs": [],
   "source": [
    "# Visualizing the distribution of means from bootstrap samples\n",
    "plt.figure(figsize=(10, 6))\n",
    "plt.hist(sample_means, edgecolor='black', alpha=0.7)\n",
    "plt.title('Distribution of Bootstrap Sample Means')\n",
    "plt.xlabel(\"Mean of residuals\")\n",
    "plt.ylabel('Frequency')\n",
    "plt.axvline(Q1, color='r', linestyle='dashed', linewidth=2, label=f\"2,5% квантиль = {Q1:.2f}\")\n",
    "plt.axvline(Q2, color='g', linestyle='dashed', linewidth=2, label=f\"50% квантиль = {Q2:.2f}\")\n",
    "plt.axvline(Q3, color='r', linestyle='dashed', linewidth=2, label=f\"97,5% квантиль = {Q3:.2f}\")\n",
    "plt.grid(True)\n",
    "plt.legend()\n",
    "plt.show()"
   ]
  },
  {
   "cell_type": "markdown",
   "id": "309f54f3-17bf-4f9d-a099-c527d468f1d4",
   "metadata": {},
   "source": [
    "![My Image](images/Residuals_quantiles.png)"
   ]
  },
  {
   "cell_type": "code",
   "execution_count": null,
   "id": "99dd9836-beb8-4b6a-ba48-db103df780a1",
   "metadata": {},
   "outputs": [],
   "source": [
    "# Determining the normality of the distribution \n",
    "\n",
    "# Perform Kolmogorov-Smirnov test\n",
    "ks_test = stats.kstest(sample_means, 'norm')\n",
    "print(f'Kolmogorov-Smirnov Test: Statistic={ks_test.statistic}, p-value={ks_test.pvalue}')\n",
    "\n",
    "# Perform Shapiro-Wilk test\n",
    "shapiro_test = stats.shapiro(sample_means)\n",
    "print(f'Shapiro-Wilk Test: Statistic={shapiro_test.statistic}, p-value={shapiro_test.pvalue}')"
   ]
  },
  {
   "cell_type": "code",
   "execution_count": null,
   "id": "dc7a184d-90de-4602-bccf-d7bdee63f86a",
   "metadata": {},
   "outputs": [],
   "source": [
    "# getting reisduals taking into account the effect of media_channel_3\n",
    "df_2_period['residuals_media_channel_4'] = df_2_period.organics - (df_2_period.organics_predict + (df_2_period.media_channel_4_spend*period2_effect))"
   ]
  },
  {
   "cell_type": "markdown",
   "id": "5514e7c4-8014-4b68-b044-b676c64a9977",
   "metadata": {},
   "source": [
    "# 3 period\n",
    "### On the last period (where media_channel_4 and media_channel_5 were launched) the influence of media_channel_5 is analyzed. The prediction of organic consumers for this period is performed using regression created and the effect of media_channel_4 (prediction = regression_prediction + media_channel_4 spend * media_channel_4 effect). Based on the obtained forecast for this period, the effect of the media channel is calculated by dividing the average residuals of organic consumers by the average media_channel_5 spend."
   ]
  },
  {
   "cell_type": "code",
   "execution_count": null,
   "id": "c707cca0-b23b-412f-a819-1667fa574de3",
   "metadata": {},
   "outputs": [],
   "source": [
    "# predicting organic consumers on 3rd period\n",
    "df_both = df_prediction.query(f\"yyyymm >= {period_1}\")\n",
    "df_both['new_organics_predict'] = df_both.organics_predict + (df_both.media_channel_4_spend * period2_effect)\n",
    "df_both['residuals'] = df_both.organics - df_both.new_organics_predict\n",
    "\n",
    "# calculating the effect of the media_channel_5\n",
    "period3_effect = df_both.residuals.mean()/df_both.media_channel_5_spend.mean()\n",
    "print(f'media_channel_5: {period3_effect}')"
   ]
  },
  {
   "cell_type": "markdown",
   "id": "5f02c6e8-fa18-4a6a-a406-928c56418c8e",
   "metadata": {},
   "source": [
    "# all periods"
   ]
  },
  {
   "cell_type": "code",
   "execution_count": null,
   "id": "cb916519-a86a-4f20-ae0c-b77593512ab3",
   "metadata": {
    "scrolled": true
   },
   "outputs": [],
   "source": [
    "# getting the dataframe where prediction for all periods is made\n",
    "df_nothing['organics_predict'] = result.predict(df_nothing[['media_channel_1', 'media_channel_2', 'media_channel_3']])\n",
    "df_prediction = pd.concat([df_nothing, df_prediction])\n",
    "\n",
    "# the prediction of organic consumers is based on the effects of media channels 3 and 4.\n",
    "df_prediction['organics_predict_new'] = df_prediction.organics_predict + (df_prediction.media_channel_4_spend*period2_effect) + (df_prediction.media_channel_5_spend*period3_effect)"
   ]
  },
  {
   "cell_type": "code",
   "execution_count": null,
   "id": "80d794c1-c85a-4c96-86fb-729db3b0eee4",
   "metadata": {},
   "outputs": [],
   "source": [
    "# The display of real values, predicted values, and predicted values with the influence of media_channel_3 and media_channel_4\n",
    "df_prediction.loc[:,['organics','organics_predict', 'organics_predict_new']].plot()"
   ]
  },
  {
   "cell_type": "markdown",
   "id": "737475db-7aaf-4a46-a555-4df7ee0b650d",
   "metadata": {},
   "source": [
    "![My Image](images/Prediction_graph.png)"
   ]
  },
  {
   "cell_type": "code",
   "execution_count": null,
   "id": "20c03fc1-31d2-434b-bda2-90ff7fbb5af9",
   "metadata": {
    "scrolled": true
   },
   "outputs": [],
   "source": [
    "df_prediction['yyyymm'] = df_prediction['yyyymm'].astype(str)\n",
    "df_prediction.plot(x='yyyymm', y=['organics', 'organics_predict', 'organics_predict_new'], figsize=(45, 10), ax=plt.gca())\n",
    "\n",
    "plt.xticks(ticks=range(len(df['yyyymm'])), labels=df_prediction['yyyymm'], rotation=45)\n",
    "plt.grid(alpha=0.3)\n",
    "\n",
    "plt.savefig(f'data_prediction_all.pdf', dpi=300)"
   ]
  },
  {
   "cell_type": "markdown",
   "id": "cff85c49-7740-4303-a622-8ddf4dd0568d",
   "metadata": {},
   "source": [
    "# Regression Diagnostics and Hypothesis Testing"
   ]
  },
  {
   "cell_type": "markdown",
   "id": "72436f06-6380-4190-9571-f7bc656f5f37",
   "metadata": {},
   "source": [
    "## Robust errors"
   ]
  },
  {
   "cell_type": "code",
   "execution_count": null,
   "id": "7baa6e28-737e-4f50-ad1c-b2374596b2b8",
   "metadata": {},
   "outputs": [],
   "source": [
    "# we use robust errors before testing heteroskedasticity to get right st err of our model\n",
    "robust = result.get_robustcov_results(cov_type='HC0')\n",
    "\n",
    "print(\"Coefficients with Robust Standard Errors:\")\n",
    "summary_df = pd.DataFrame({\n",
    "    'Coefficient': robust.params,\n",
    "    'Robust Std Err': robust.bse,\n",
    "    't-value': robust.tvalues,\n",
    "    'p-value': robust.pvalues\n",
    "})\n",
    "print(summary_df)"
   ]
  },
  {
   "cell_type": "code",
   "execution_count": null,
   "id": "1ff46a45-9b74-4ccf-9625-0f1d46b0d9bf",
   "metadata": {},
   "outputs": [],
   "source": [
    "# results of a model with robust erros\n",
    "result_HC = smf.ols(formula = \n",
    "'organics ~ media_channel_1 + media_channel_2 + media_channel_3 ', data = df).fit(cov_type = 'HC0')\n",
    "result_HC.summary()"
   ]
  },
  {
   "cell_type": "markdown",
   "id": "1628328c-6a99-4562-87b1-12ddb201f195",
   "metadata": {},
   "source": [
    "## Hypothesis about linear restictions"
   ]
  },
  {
   "cell_type": "code",
   "execution_count": null,
   "id": "90f73752-524a-414d-a099-bcb22ca1a835",
   "metadata": {
    "scrolled": true
   },
   "outputs": [],
   "source": [
    "variables = ['media_channel_1',  'media_channel_2',  'media_channel_3']\n",
    "for i in variables:\n",
    "    wald_test = result.wald_test(f'({i} = 0)')\n",
    "    if wald_test.pvalue < 0.05:\n",
    "        print(f'{i} != 0: {wald_test.pvalue}')\n",
    "    else:\n",
    "        print(f'{i} = 0: {wald_test.pvalue}')"
   ]
  },
  {
   "cell_type": "markdown",
   "id": "3f129595-2310-4a34-998d-c2ff61b0f1f9",
   "metadata": {},
   "source": [
    "## Hypothesis about the equality of variables"
   ]
  },
  {
   "cell_type": "code",
   "execution_count": null,
   "id": "533fa1f7-06e7-4108-a338-6ac73f8361f5",
   "metadata": {
    "scrolled": true
   },
   "outputs": [],
   "source": [
    "# p-value < 0.5: the compared variables have significantly different effects\n",
    "t_test = result.t_test(\"media_channel_1 = media_channel_2\")\n",
    "print('media_channel_1 = media_channel_2', t_test)\n",
    "\n",
    "t_test = result.t_test(\"media_channel_1 = media_channel_3\")\n",
    "print('media_channel_1 = media_channel_3', t_test)\n",
    "\n",
    "t_test = result.t_test(\"media_channel_2 = media_channel_3\")\n",
    "print('media_channel_2 = media_channel_3', t_test)"
   ]
  },
  {
   "cell_type": "markdown",
   "id": "0a189383-8794-4ba3-889e-71435df60f70",
   "metadata": {},
   "source": [
    "## Hypothesis about missing variables"
   ]
  },
  {
   "cell_type": "code",
   "execution_count": null,
   "id": "192accef-2779-40cf-9030-a39f8b4dafba",
   "metadata": {},
   "outputs": [],
   "source": [
    "result.summary()"
   ]
  },
  {
   "cell_type": "code",
   "execution_count": null,
   "id": "cd2ce5e9-1ec8-44ac-9c1f-61a5cda6f9cc",
   "metadata": {},
   "outputs": [],
   "source": [
    "resettest = smd.linear_reset(res = result, power = 2, test_type = 'fitted', use_f = True)\n",
    "if resettest.pvalue < 0.05:\n",
    "    print(f'result has missing values: {resettest.pvalue}')\n",
    "else:\n",
    "    print(f'result has no missing values: {resettest.pvalue}')"
   ]
  },
  {
   "cell_type": "markdown",
   "id": "c667e412-e9ab-4dcc-9030-0e19d757026d",
   "metadata": {},
   "source": [
    "## Multicollinearity"
   ]
  },
  {
   "cell_type": "code",
   "execution_count": null,
   "id": "14b9c9a8-a174-4843-a92d-348b7ee226f4",
   "metadata": {},
   "outputs": [],
   "source": [
    "variables = ['media_channel_1', 'media_channel_2', 'media_channel_3', 'media_channel_4', 'media_channel_5']\n",
    "\n",
    "vif_data = pd.DataFrame()\n",
    "X = df[variables]\n",
    "vif_data['feature'] = X.columns\n",
    "vif_data['VIF'] = [variance_inflation_factor(X.values, i) for i in range(len(X.columns))]\n",
    "print(vif_data)"
   ]
  },
  {
   "cell_type": "markdown",
   "id": "b695b83e-7077-4923-852b-bcffc316c076",
   "metadata": {},
   "source": [
    "## Heteroskedasticity"
   ]
  },
  {
   "cell_type": "code",
   "execution_count": null,
   "id": "2faba839-e0b7-4d99-b606-be6a444ac144",
   "metadata": {},
   "outputs": [],
   "source": [
    "# White test\n",
    "# H0: Homoscedasticity is present.\n",
    "white_test = het_white(result.resid, result.model.exog)\n",
    "\n",
    "lm_stat, lm_pvalue, f_stat, f_pvalue = white_test\n",
    "\n",
    "print(\"White test results:\")\n",
    "print(f\"Lagrange Multiplier Statistic: {lm_stat:.4f}\")\n",
    "print(f\"P-value (LM test): {lm_pvalue:.4f}\")\n",
    "print(f\"F-statistic: {f_stat:.4f}\")\n",
    "print(f\"P-value (F test): {f_pvalue:.4f}\")"
   ]
  },
  {
   "cell_type": "code",
   "execution_count": null,
   "id": "ab034ead-3fed-4563-8a4a-e47d8a1f0bc2",
   "metadata": {},
   "outputs": [],
   "source": [
    "# Goldfeld-Quandt test\n",
    "# is better as we have few data and errors are normally distributed\n",
    "# H0: Homoscedasticity is present.\n",
    "test = het_goldfeldquandt(result.resid, result.model.exog)\n",
    "test_stat, p_value, alterbative = test\n",
    "print(\"Goldfeld-Quandt test results:\")\n",
    "print(f\"Test statistic: {test_stat:.4f}\")\n",
    "print(f\"P-value: {p_value:.4f}\")"
   ]
  },
  {
   "cell_type": "markdown",
   "id": "023e7679-a4e6-485d-a9dc-e2d75cbc865a",
   "metadata": {},
   "source": [
    "## Autocorrelation"
   ]
  },
  {
   "cell_type": "code",
   "execution_count": null,
   "id": "b97c2c3b-29e9-459a-8584-583f2219276c",
   "metadata": {},
   "outputs": [],
   "source": [
    "# making graph to see if there is autocorrelation\n",
    "plt.scatter(result.resid.shift(1),result.resid)\n",
    "plt.xlabel('error before')\n",
    "plt.ylabel('error now')\n",
    "plt.grid(True)"
   ]
  },
  {
   "cell_type": "code",
   "execution_count": null,
   "id": "076dd831-228b-43ea-befa-1f53d54dd64f",
   "metadata": {},
   "outputs": [],
   "source": [
    "# making graph to see if there is autocorrelation\n",
    "plt.scatter(result.resid.shift(2),result.resid)\n",
    "plt.xlabel('error before 2')\n",
    "plt.ylabel('error now')\n",
    "plt.grid(True)"
   ]
  },
  {
   "cell_type": "code",
   "execution_count": null,
   "id": "e74d189b-9e35-4fc8-93bb-8c8068952481",
   "metadata": {},
   "outputs": [],
   "source": [
    "# vcov matrix taking into account autocorrelation.\n",
    "hac_cov_matrix = result.get_robustcov_results(cov_type='HAC', maxlags=1).cov_params()\n",
    "print(hac_cov_matrix)"
   ]
  },
  {
   "cell_type": "code",
   "execution_count": null,
   "id": "b668e036-c23a-4974-aca8-de49dcf9e380",
   "metadata": {
    "scrolled": true
   },
   "outputs": [],
   "source": [
    "# results of a model with se_HAC\n",
    "result_HAC = smf.ols(formula = \n",
    "'organics ~ media_channel_1 + media_channel_2 + media_channel_3', data = df).fit(cov_type = 'HAC', cov_kwds = {'maxlags':1})\n",
    "result_HAC.summary()"
   ]
  },
  {
   "cell_type": "code",
   "execution_count": null,
   "id": "8b6fcc1e-2ded-4ce3-b85a-87ff713fb250",
   "metadata": {},
   "outputs": [],
   "source": [
    "# Durbin-Watson test\n",
    "# H0: no autocorrelation\n",
    "# H1: autocorrelation p=1\n",
    "dw_statistic = durbin_watson(result.resid)\n",
    "print(f'Durbin-Watson statistic: {dw_statistic}')"
   ]
  },
  {
   "cell_type": "code",
   "execution_count": null,
   "id": "b063ab91-7a8a-4543-8776-6ebeb1eb0436",
   "metadata": {},
   "outputs": [],
   "source": [
    "# Breush-Godfrey test\n",
    "# H0: no autocorrelation\n",
    "# H1: autocorrelation p-n\n",
    "bg_test = acorr_breusch_godfrey(result, nlags=2)  # Testing for 2 lags\n",
    "print(f'Breusch-Godfrey test statistic: {bg_test[0]}')\n",
    "print(f'p-value: {bg_test[1]}')"
   ]
  },
  {
   "cell_type": "markdown",
   "id": "f74de223-f7cb-4616-8ba2-49b88aba3057",
   "metadata": {},
   "source": [
    "## Errors"
   ]
  },
  {
   "cell_type": "code",
   "execution_count": null,
   "id": "e45ed870-475c-462d-91c4-60047d8ba7bf",
   "metadata": {},
   "outputs": [],
   "source": [
    "# Get the residuals\n",
    "residuals = result.resid\n",
    "\n",
    "# Histogram of residuals\n",
    "plt.figure(figsize=(10, 6))\n",
    "sns.histplot(residuals, kde=True)\n",
    "plt.title('Distribution of Residuals')\n",
    "plt.xlabel('Residuals')\n",
    "plt.ylabel('Frequency')\n",
    "plt.show()\n",
    "\n",
    "# QQ plot\n",
    "sm.qqplot(residuals, line='s')\n",
    "plt.title('Q-Q Plot of Residuals')\n",
    "plt.show()"
   ]
  },
  {
   "cell_type": "markdown",
   "id": "aecca387-2161-418a-b29d-f8be47c3268a",
   "metadata": {},
   "source": [
    "## Testing for normality of the distribution"
   ]
  },
  {
   "cell_type": "code",
   "execution_count": null,
   "id": "1c444371-b5fa-4655-acee-9fa7bfe4d972",
   "metadata": {},
   "outputs": [],
   "source": [
    "# Perform Kolmogorov-Smirnov test\n",
    "ks_test = stats.kstest(residuals, 'norm')\n",
    "print(f'Kolmogorov-Smirnov Test: Statistic={ks_test.statistic}, p-value={ks_test.pvalue}')\n",
    "\n",
    "# Perform Shapiro-Wilk test\n",
    "shapiro_test = stats.shapiro(residuals)\n",
    "print(f'Shapiro-Wilk Test: Statistic={shapiro_test.statistic}, p-value={shapiro_test.pvalue}')"
   ]
  }
 ],
 "metadata": {
  "kernelspec": {
   "display_name": "Python 3 (ipykernel)",
   "language": "python",
   "name": "python3"
  },
  "language_info": {
   "codemirror_mode": {
    "name": "ipython",
    "version": 3
   },
   "file_extension": ".py",
   "mimetype": "text/x-python",
   "name": "python",
   "nbconvert_exporter": "python",
   "pygments_lexer": "ipython3",
   "version": "3.11.9"
  }
 },
 "nbformat": 4,
 "nbformat_minor": 5
}
