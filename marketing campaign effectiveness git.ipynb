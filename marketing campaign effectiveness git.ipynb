{
 "cells": [
  {
   "cell_type": "code",
   "execution_count": 1,
   "id": "1937bcdf",
   "metadata": {},
   "outputs": [],
   "source": [
    "import pandas as pd\n",
    "import numpy as np\n",
    "import warnings\n",
    "import matplotlib\n",
    "import matplotlib.pyplot as plt\n",
    "from sklearn import datasets\n",
    "import seaborn as sns\n",
    "\n",
    "import scipy.stats as stats\n",
    "from scipy.stats import uniform, binom, norm, kstest, shapiro \n",
    "\n",
    "import statsmodels.api as sm\n",
    "warnings.filterwarnings('ignore')\n"
   ]
  },
  {
   "attachments": {},
   "cell_type": "markdown",
   "id": "8c706119",
   "metadata": {},
   "source": [
    "### Experiments (t-tests) were conducted at gas stations with __standard equipment__ and with __special equipment__ (audio, video, etc.)"
   ]
  },
  {
   "attachments": {},
   "cell_type": "markdown",
   "id": "6fdb4e06",
   "metadata": {},
   "source": [
    "# T-test based on average check"
   ]
  },
  {
   "cell_type": "code",
   "execution_count": 4,
   "id": "94bebfc1",
   "metadata": {},
   "outputs": [],
   "source": [
    "dfpilot = pd.read_sql('''\n",
    "select org_ksss, round(sum(volume)/count(distinct cheque_id),2) as average_check\n",
    "from \n",
    "(select * from pet.pet_0822\n",
    "union all\n",
    "select * from pet.pet_0922) as pet \n",
    "where org_ksss in ('159202','159203','3179','157202','66202','1274','1273','3374','136813','8729','134201','136603','136602','3359') --pilot\n",
    "and volume is not null and discount_card_info is not null\n",
    "group by org_ksss\n",
    "''', connection)"
   ]
  },
  {
   "cell_type": "code",
   "execution_count": 5,
   "id": "066549fa",
   "metadata": {},
   "outputs": [],
   "source": [
    "dfcontr = pd.read_sql('''\n",
    "select org_ksss, round(sum(volume)/count(distinct cheque_id),2) as average_check\n",
    "from \n",
    "(select * from pet.pet_0822\n",
    "union all\n",
    "select * from pet.pet_0922) as pet \n",
    "where org_ksss in ('3748','136922','125638','118601','133719','136802','133696','3375','3363','104801','62403','63604','153810',\n",
    "'3171','136938','125622','125609','94005','3357','64404','133676','9753','133642','6416','62405','158401','5099','3217','136811',\n",
    "'136921','7330','9748','127001','3355','125627','127801','3364','5063','62201','92402','3177','5037','60604','5088')     --kontr\n",
    "and volume is not null and discount_card_info is not null\n",
    "group by org_ksss\n",
    "''', connection)"
   ]
  },
  {
   "cell_type": "code",
   "execution_count": 7,
   "id": "89f5f122",
   "metadata": {},
   "outputs": [],
   "source": [
    "dfpilot['label']=1\n",
    "dfcontr['label']=0\n",
    "data = pd.concat([dfpilot,dfcontr], axis = 0, ignore_index = False)\n",
    "data = data.reset_index(drop = True)"
   ]
  },
  {
   "cell_type": "code",
   "execution_count": 3,
   "id": "c9c9d3f4",
   "metadata": {},
   "outputs": [],
   "source": [
    "sns.set(rc={'figure.figsize':(11.7,8.27)})\n",
    "groups = sns.histplot( data = data,\n",
    "                    x = 'average_check',\n",
    "                    hue = 'label',\n",
    "                    palette = ['r', 'b'],\n",
    "                    alpha=0.5,\n",
    "                    kde=True)\n",
    "plt.show()"
   ]
  },
  {
   "cell_type": "code",
   "execution_count": 15,
   "id": "dd1a08ef",
   "metadata": {},
   "outputs": [
    {
     "data": {
      "text/plain": [
       "KstestResult(statistic=1.0, pvalue=0.0)"
      ]
     },
     "execution_count": 15,
     "metadata": {},
     "output_type": "execute_result"
    }
   ],
   "source": [
    "kstest(dfpilot['average_check'], 'norm')"
   ]
  },
  {
   "cell_type": "code",
   "execution_count": 16,
   "id": "e13e390e",
   "metadata": {},
   "outputs": [
    {
     "data": {
      "text/plain": [
       "KstestResult(statistic=1.0, pvalue=0.0)"
      ]
     },
     "execution_count": 16,
     "metadata": {},
     "output_type": "execute_result"
    }
   ],
   "source": [
    "kstest(dfcontr['average_check'], 'norm')"
   ]
  },
  {
   "cell_type": "code",
   "execution_count": 17,
   "id": "1f8c5e0c",
   "metadata": {},
   "outputs": [
    {
     "name": "stdout",
     "output_type": "stream",
     "text": [
      "Two Sample t-test\n",
      "t = -1.8649365672733214\n",
      "p-value = 0.06743332952540156\n",
      "df =  56.0\n"
     ]
    }
   ],
   "source": [
    "res = sm.stats.ttest_ind(dfcontr['average_check'], dfpilot['average_check'])\n",
    "print(\"Two Sample t-test\")\n",
    "print(\"t =\", res[0])\n",
    "print(\"p-value =\", res[1])\n",
    "print(\"df = \", res[2])\n",
    "\n",
    "if res[1] > 0.05:\n",
    "    print('There is a statistical significance. There is a difference between average checks in 2 expirements')\n",
    "else: \n",
    "    print('There is no statistical significance. There is no difference between average checks in 2 expirements')"
   ]
  },
  {
   "attachments": {},
   "cell_type": "markdown",
   "id": "ce5245c0",
   "metadata": {},
   "source": [
    "# T-test based on conversion"
   ]
  },
  {
   "cell_type": "code",
   "execution_count": 18,
   "id": "ba295046",
   "metadata": {},
   "outputs": [],
   "source": [
    "dfpilotcof = pd.read_sql('''\n",
    "select org_ksss, round(sum(coffee)/sum(fuel),3) as conv\n",
    "from\n",
    "(\n",
    "select \n",
    "    org_ksss, \n",
    "    count (distinct case when volume is not null then cheque_id else null end) as fuel,\n",
    "    count(distinct case when quantity is not null and gds_ksss in ('1784732', '1684653', '1745331', '3023264', '3023268', '3023267', '3180431','3387693','3387696',\n",
    "'3387702',\n",
    "'3388224',\n",
    "'3180439',\n",
    "'3180436',\n",
    "'3388235') \n",
    "            then cheque_id else null end) as coffee\n",
    "from \n",
    "(select * from pet.pet_0822\n",
    "union all \n",
    "select * from pet.pet_0922) pet\n",
    "where discount_card_info is not null \n",
    "and org_ksss in ('159202','159203','3179','157202','66202','1274','1273','3374','136813','8729','134201','136603','136602','3359') --pilot\n",
    "group by org_ksss\n",
    ") as a\n",
    "group by org_ksss\n",
    "''', connection)"
   ]
  },
  {
   "cell_type": "code",
   "execution_count": 20,
   "id": "2400092f",
   "metadata": {},
   "outputs": [],
   "source": [
    "dfcontrcof = pd.read_sql('''\n",
    "select org_ksss, round(sum(coffee)/sum(fuel),3) as conv\n",
    "from\n",
    "(\n",
    "select \n",
    "    org_ksss, \n",
    "    count (distinct case when volume is not null then cheque_id else null end) as fuel,\n",
    "    count(distinct case when quantity is not null and gds_ksss in ('1784732', '1684653', '1745331', '3023264', '3023268', '3023267', '3180431','3387693','3387696',\n",
    "'3387702',\n",
    "'3388224',\n",
    "'3180439',\n",
    "'3180436',\n",
    "'3388235') then cheque_id else null end) as coffee\n",
    "from \n",
    "(select * from pet.pet_0822\n",
    "union all \n",
    "select * from pet.pet_0922) pet\n",
    "where discount_card_info is not null \n",
    "and org_ksss in ('3748','136922','125638','118601','133719','136802','133696','3375','3363','104801','62403','63604','153810',\n",
    "'3171','136938','125622','125609','94005','3357','64404','133676','9753','133642','6416','62405','158401','5099','3217','136811',\n",
    "'136921','7330','9748','127001','3355','125627','127801','3364','5063','62201','92402','3177','5037','60604','5088')     --kontr\n",
    "group by org_ksss\n",
    ") as a\n",
    "group by org_ksss\n",
    "''', connection)"
   ]
  },
  {
   "cell_type": "code",
   "execution_count": 21,
   "id": "ba2551e3",
   "metadata": {},
   "outputs": [],
   "source": [
    "dfpilotcof['label']=1\n",
    "dfcontrcof['label']=0\n",
    "data2 = pd.concat([dfpilotcof,dfcontrcof], axis = 0, ignore_index = True)"
   ]
  },
  {
   "cell_type": "code",
   "execution_count": 4,
   "id": "ddfde292",
   "metadata": {},
   "outputs": [],
   "source": [
    "sns.set(rc={'figure.figsize':(11.7,8.27)})\n",
    "groups = sns.histplot( data = data2,\n",
    "                    x = 'conv',\n",
    "                    hue = 'label',\n",
    "                    palette = ['r', 'b'],\n",
    "                    alpha=0.5,\n",
    "                    kde=True)\n",
    "plt.show()"
   ]
  },
  {
   "cell_type": "code",
   "execution_count": 24,
   "id": "5323b9f7",
   "metadata": {},
   "outputs": [
    {
     "data": {
      "text/plain": [
       "KstestResult(statistic=0.5087760222306617, pvalue=0.0006946833309473491)"
      ]
     },
     "execution_count": 24,
     "metadata": {},
     "output_type": "execute_result"
    }
   ],
   "source": [
    "kstest(dfpilotcof['conv'], 'norm')"
   ]
  },
  {
   "cell_type": "code",
   "execution_count": 25,
   "id": "0b09f614",
   "metadata": {},
   "outputs": [
    {
     "data": {
      "text/plain": [
       "KstestResult(statistic=0.5079783137169019, pvalue=4.761441751187536e-11)"
      ]
     },
     "execution_count": 25,
     "metadata": {},
     "output_type": "execute_result"
    }
   ],
   "source": [
    "kstest(dfcontrcof['conv'], 'norm')"
   ]
  },
  {
   "cell_type": "code",
   "execution_count": 26,
   "id": "9c91d3f9",
   "metadata": {},
   "outputs": [
    {
     "data": {
      "text/plain": [
       "ShapiroResult(statistic=0.911939799785614, pvalue=0.16814209520816803)"
      ]
     },
     "execution_count": 26,
     "metadata": {},
     "output_type": "execute_result"
    }
   ],
   "source": [
    "shapiro(dfpilotcof['conv'])"
   ]
  },
  {
   "cell_type": "code",
   "execution_count": 27,
   "id": "2423335d",
   "metadata": {},
   "outputs": [
    {
     "data": {
      "text/plain": [
       "ShapiroResult(statistic=0.924034059047699, pvalue=0.00650955131277442)"
      ]
     },
     "execution_count": 27,
     "metadata": {},
     "output_type": "execute_result"
    }
   ],
   "source": [
    "shapiro(dfcontrcof['conv'])"
   ]
  },
  {
   "cell_type": "code",
   "execution_count": 28,
   "id": "a68c1325",
   "metadata": {},
   "outputs": [
    {
     "name": "stdout",
     "output_type": "stream",
     "text": [
      "Two Sample t-test\n",
      "t = -0.17165726001689416\n",
      "p-value = 0.8643257963787294\n",
      "df =  56.0\n"
     ]
    }
   ],
   "source": [
    "res = sm.stats.ttest_ind(dfcontrcof['conv'], dfpilotcof['conv'])\n",
    "print(\"Two Sample t-test\")\n",
    "print(\"t =\", res[0])\n",
    "print(\"p-value =\", res[1])\n",
    "print(\"df = \", res[2])\n",
    "\n",
    "if res[1] > 0.05:\n",
    "    print('There is a statistical significance. There is a difference between conversion in 2 expirements')\n",
    "else: \n",
    "    print('There is no statistical significance. There is no difference between conversion in 2 expirements')"
   ]
  },
  {
   "attachments": {},
   "cell_type": "markdown",
   "id": "58a45a3c",
   "metadata": {},
   "source": [
    "# T-test based on number of checks"
   ]
  },
  {
   "cell_type": "code",
   "execution_count": 29,
   "id": "9bbed8d3",
   "metadata": {},
   "outputs": [],
   "source": [
    "dfpilotch = pd.read_sql('''\n",
    "select org_ksss, count(distinct cheque_id) as chk\n",
    "from \n",
    "(select * from pet.pet_0822\n",
    "union all \n",
    "select * from pet.pet_0922) pet\n",
    "where org_ksss in ('159202','159203','3179','157202','66202','1274','1273','3374','136813','8729','134201','136603','136602','3359') --pilot\n",
    "group by org_ksss\n",
    "''', connection)                    "
   ]
  },
  {
   "cell_type": "code",
   "execution_count": 30,
   "id": "bd1574a5",
   "metadata": {},
   "outputs": [],
   "source": [
    "dfcontrch = pd.read_sql('''\n",
    "select org_ksss, count(distinct cheque_id) as chk\n",
    "from \n",
    "(select * from pet.pet_0822\n",
    "union all \n",
    "select * from pet.pet_0922) pet\n",
    "where org_ksss in ('3748','136922','125638','118601','133719','136802','133696','3375','3363','104801','62403','63604','153810',\n",
    "'3171','136938','125622','125609','94005','3357','64404','133676','9753','133642','6416','62405','158401','5099','3217','136811',\n",
    "'136921','7330','9748','127001','3355','125627','127801','3364','5063','62201','92402','3177','5037','60604','5088')     --kontr\n",
    "group by org_ksss\n",
    "''', connection)     "
   ]
  },
  {
   "cell_type": "code",
   "execution_count": 31,
   "id": "f629a150",
   "metadata": {},
   "outputs": [],
   "source": [
    "dfpilotch['label']=1\n",
    "dfcontrch['label']=0\n",
    "data3 = pd.concat([dfpilotch,dfcontrch], axis=0, ignore_index=True)"
   ]
  },
  {
   "cell_type": "code",
   "execution_count": 5,
   "id": "20fa4354",
   "metadata": {},
   "outputs": [],
   "source": [
    "sns.set(rc={'figure.figsize':(11.7,8.27)})\n",
    "groups = sns.histplot( data = data3,\n",
    "                    x = 'chk',\n",
    "                    hue = 'label',\n",
    "                    palette = ['r', 'b'],\n",
    "                    alpha=0.5,\n",
    "                    kde=True)\n",
    "plt.show()"
   ]
  },
  {
   "cell_type": "code",
   "execution_count": 34,
   "id": "a3e871f8",
   "metadata": {},
   "outputs": [
    {
     "data": {
      "text/plain": [
       "KstestResult(statistic=1.0, pvalue=0.0)"
      ]
     },
     "execution_count": 34,
     "metadata": {},
     "output_type": "execute_result"
    }
   ],
   "source": [
    "kstest(dfpilotch['chk'], 'norm')"
   ]
  },
  {
   "cell_type": "code",
   "execution_count": 35,
   "id": "3ad47bec",
   "metadata": {},
   "outputs": [
    {
     "data": {
      "text/plain": [
       "KstestResult(statistic=1.0, pvalue=0.0)"
      ]
     },
     "execution_count": 35,
     "metadata": {},
     "output_type": "execute_result"
    }
   ],
   "source": [
    "kstest(dfcontrch['chk'], 'norm')"
   ]
  },
  {
   "cell_type": "code",
   "execution_count": 36,
   "id": "0c760a6a",
   "metadata": {},
   "outputs": [
    {
     "name": "stdout",
     "output_type": "stream",
     "text": [
      "Two Sample t-test\n",
      "t = -1.8395266861062054\n",
      "p-value = 0.07114071462802875\n",
      "df =  56.0\n"
     ]
    }
   ],
   "source": [
    "res = sm.stats.ttest_ind(dfcontrch['chk'], dfpilotch['chk'])\n",
    "print(\"Two Sample t-test\")\n",
    "print(\"t =\", res[0])\n",
    "print(\"p-value =\", res[1])\n",
    "print(\"df = \", res[2])\n",
    "\n",
    "if res[1] > 0.05:\n",
    "    print('There is a statistical significance. There is a difference between amount of checks sold in 2 expirements')\n",
    "else: \n",
    "    print('There is no statistical significance. There is no difference between amount of checks sold in 2 expirements')"
   ]
  },
  {
   "attachments": {},
   "cell_type": "markdown",
   "id": "e6535c7c",
   "metadata": {},
   "source": [
    "# T-test based on number of checks with coffee"
   ]
  },
  {
   "cell_type": "code",
   "execution_count": 38,
   "id": "6a8dec9b",
   "metadata": {},
   "outputs": [],
   "source": [
    "dfpilot_ch_cof = pd.read_sql('''\n",
    "select \n",
    "    org_ksss, \n",
    "    count(distinct case when quantity is not null and gds_ksss in ('1784732', '1684653', '1745331', '3023264', '3023268', '3023267', '3180431','3387693','3387696',\n",
    "'3387702',\n",
    "'3388224',\n",
    "'3180439',\n",
    "'3180436',\n",
    "'3388235')\n",
    "            then cheque_id else null end) as coffee\n",
    "from\n",
    "(select * from pet.pet_0822\n",
    "union all \n",
    "select * from pet.pet_0922) pet\n",
    "where org_ksss in ('159202','159203','3179','157202','66202','1274','1273','3374','136813','8729','134201','136603','136602','3359') --pilot\n",
    "group by org_ksss\n",
    "''', connection)"
   ]
  },
  {
   "cell_type": "code",
   "execution_count": 39,
   "id": "8dd18e73",
   "metadata": {},
   "outputs": [],
   "source": [
    "dfcontr_ch_cof = pd.read_sql('''\n",
    "select \n",
    "    org_ksss, \n",
    "    count(distinct case when quantity is not null and gds_ksss in ('1784732', '1684653', '1745331', '3023264', '3023268', '3023267', '3180431','3387693','3387696',\n",
    "'3387702',\n",
    "'3388224',\n",
    "'3180439',\n",
    "'3180436',\n",
    "'3388235') then cheque_id else null end) as coffee\n",
    "from\n",
    "(select * from pet.pet_0822\n",
    "union all \n",
    "select * from pet.pet_0922) pet\n",
    "where org_ksss in ('3748','136922','125638','118601','133719','136802','133696','3375','3363','104801','62403','63604','153810',\n",
    "'3171','136938','125622','125609','94005','3357','64404','133676','9753','133642','6416','62405','158401','5099','3217','136811',\n",
    "'136921','7330','9748','127001','3355','125627','127801','3364','5063','62201','92402','3177','5037','60604','5088')     --kontr\n",
    "group by org_ksss\n",
    "''',connection)"
   ]
  },
  {
   "cell_type": "code",
   "execution_count": 40,
   "id": "2d55c3e5",
   "metadata": {},
   "outputs": [],
   "source": [
    "dfpilot_ch_cof['label']=1\n",
    "dfcontr_ch_cof['label']=0\n",
    "data_coffee = pd.concat([dfpilot_ch_cof,dfcontr_ch_cof], axis=0, ignore_index=True)"
   ]
  },
  {
   "cell_type": "code",
   "execution_count": 6,
   "id": "68bbcf29",
   "metadata": {},
   "outputs": [],
   "source": [
    "sns.set(rc={'figure.figsize':(11.7,8.27)})\n",
    "groups = sns.histplot( data = data_coffee,\n",
    "                    x = 'coffee',\n",
    "                    hue = 'label',\n",
    "                    palette = ['r', 'b'],\n",
    "                    alpha=0.5,\n",
    "                    kde=True)\n",
    "plt.show()"
   ]
  },
  {
   "cell_type": "code",
   "execution_count": 46,
   "id": "4808eb81",
   "metadata": {},
   "outputs": [
    {
     "data": {
      "text/plain": [
       "KstestResult(statistic=1.0, pvalue=0.0)"
      ]
     },
     "execution_count": 46,
     "metadata": {},
     "output_type": "execute_result"
    }
   ],
   "source": [
    "kstest(dfpilot_ch_cof['coffee'], 'norm')"
   ]
  },
  {
   "cell_type": "code",
   "execution_count": 47,
   "id": "4bb01147",
   "metadata": {},
   "outputs": [
    {
     "data": {
      "text/plain": [
       "KstestResult(statistic=1.0, pvalue=0.0)"
      ]
     },
     "execution_count": 47,
     "metadata": {},
     "output_type": "execute_result"
    }
   ],
   "source": [
    "kstest(dfcontr_ch_cof['coffee'], 'norm')"
   ]
  },
  {
   "cell_type": "code",
   "execution_count": 48,
   "id": "552fc72f",
   "metadata": {
    "scrolled": false
   },
   "outputs": [
    {
     "name": "stdout",
     "output_type": "stream",
     "text": [
      "Two Sample t-test\n",
      "t = -1.8395266861062054\n",
      "p-value = 0.07114071462802875\n",
      "df =  56.0\n"
     ]
    }
   ],
   "source": [
    "res = sm.stats.ttest_ind(dfcontrch['chk'], dfpilotch['chk'])\n",
    "print(\"Two Sample t-test\")\n",
    "print(\"t =\", res[0])\n",
    "print(\"p-value =\", res[1])\n",
    "print(\"df = \", res[2])\n",
    "\n",
    "if res[1] > 0.05:\n",
    "    print('There is a statistical significance. There is a difference between amount of checks sold with coffee in 2 expirements')\n",
    "else: \n",
    "    print('There is no statistical significance. There is no difference between amount of checks sold with coffee in 2 expirements')"
   ]
  },
  {
   "attachments": {},
   "cell_type": "markdown",
   "id": "cd8a0542",
   "metadata": {},
   "source": [
    "# T-test based on AZS rating and amount of rates"
   ]
  },
  {
   "cell_type": "markdown",
   "id": "f82437f0",
   "metadata": {},
   "source": [
    "## 08, 09"
   ]
  },
  {
   "cell_type": "code",
   "execution_count": 68,
   "id": "4528dd47",
   "metadata": {},
   "outputs": [],
   "source": [
    "dfpilot_azsrate = pd.read_sql('''\n",
    "\n",
    "select  station_name, a.amount as amount, round(sum(a.sum)/sum(a.amount),3) as rate\n",
    "from\n",
    "(\n",
    "select \n",
    "    station_name,\n",
    "    count (rate) as amount,\n",
    "    sum (rate) as sum\n",
    "from \n",
    "public.azs_rating\n",
    "where  date_created >= '2022-08-01' and  date_created < '2022-10-01'\n",
    "and station_name in ('АЗС №50624','АЗС №36712','АЗС № 36712','АЗС № 23284','АЗС №23284','АЗС №23043','АЗС № 23043','АЗС №01159','АЗС № 01159','АЗС №23006','АЗС № 23006','АЗС №77511','АЗС № 77511','АЗС №77624','АЗС № 77624','АЗС №50623','АЗС № 26078','АЗС №26078','АЗС № 23373','АЗС №23373','АЗС № 23044','АЗС №23044','АЗС №77621','АЗС № 77621','АЗС №23374','АЗС № 23374')\n",
    "group by station_name\n",
    ") as a\n",
    "group by station_name, amount, sum\n",
    "''', connection)"
   ]
  },
  {
   "cell_type": "code",
   "execution_count": 71,
   "id": "f2fa6b01",
   "metadata": {},
   "outputs": [],
   "source": [
    "dfcontr_azsrate = pd.read_sql('''\n",
    "\n",
    "select  station_name, a.amount as amount, round(sum(a.sum)/sum(a.amount),3) as rate\n",
    "from\n",
    "(\n",
    "select \n",
    "    station_name,\n",
    "    count (rate) as amount,\n",
    "    sum (rate) as sum\n",
    "from \n",
    "public.azs_rating\n",
    "where  date_created >= '2022-08-01' and  date_created < '2022-10-01'\n",
    "and station_name in ('АЗС № 50407','АЗС №50407','АЗС №77617','АЗС № 77617','АЗС №34450','АЗС № 34450','АЗС №50264','АЗС № 50264','АЗС №26077','АЗС № 26077','АЗС №61315','АЗС № 61315','АЗС № 34510','АЗС №34510','АЗС № 50244','АЗС №50244',\n",
    "'АЗС №77607','АЗС № 77607','АЗС №61361','АЗС № 61361','АЗС № 77571','АЗС №77571','АЗС №69472','АЗС № 61326','АЗС №61326','АЗС № 34488',\n",
    "'АЗС №34488','АЗС № 61297','АЗС №61297','АЗС №77620','АЗС № 77620','АЗС №36720','АЗС № 36720','АЗС №50427','АЗС № 50427','АЗС № 23275',\n",
    "'АЗС №23275','АЗС № 77516','АЗС №77516','АЗС №26099','АЗС № 26099','АЗС № 77618','АЗС №77618','АЗС №23282','АЗС № 23282','АЗС №23170','АЗС № 23170',\n",
    "'АЗС № 36722','АЗС №36722','АЗС №23017','АЗС № 23017','АЗС №77596','АЗС № 77596','АЗС №08546','АЗС № 08546','АЗС № 23223','АЗС №23223',\n",
    "'АЗC №36730','АЗC № 36730','АЗС № 26359','АЗС №26359','АЗС № 77544','АЗС №77544','АЗС №36716','АЗС № 36716','АЗС № 61310',\n",
    "'АЗС №61310','АЗС № 69471','АЗС №69471','АЗС № 23010','АЗС №23010','АЗС №23045','АЗС № 23045','АЗС №77502','АЗС № 77502','АЗС №36703','АЗС № 36703','АЗС № 77619','АЗС №77619','АЗС №23261','АЗС № 23070','АЗС №23070','АЗС №50488','АЗС № 23229','АЗС №23229')\n",
    " group by station_name\n",
    ") as a\n",
    "group by station_name, amount, sum\n",
    "\n",
    "''', connection)"
   ]
  },
  {
   "cell_type": "code",
   "execution_count": 54,
   "id": "fcdfc6be",
   "metadata": {},
   "outputs": [],
   "source": [
    "dfpilot_azsrate['label']=1\n",
    "dfcontr_azsrate['label']=0\n",
    "dataazs=pd.concat([dfpilot_azsrate,dfcontr_azsrate], axis=0, ignore_index=True)"
   ]
  },
  {
   "cell_type": "markdown",
   "id": "b6123fcd",
   "metadata": {},
   "source": [
    "### AZS rating 08, 09"
   ]
  },
  {
   "cell_type": "code",
   "execution_count": 7,
   "id": "06661d46",
   "metadata": {},
   "outputs": [],
   "source": [
    "sns.set(rc={'figure.figsize':(11.7,8.27)})\n",
    "groups = sns.histplot( data = dataazs,\n",
    "                    x = 'rate',\n",
    "                    hue = 'label',\n",
    "                    palette = ['r', 'b'],\n",
    "                    alpha=0.5,\n",
    "                    kde=True)\n",
    "plt.show()"
   ]
  },
  {
   "cell_type": "code",
   "execution_count": 58,
   "id": "3354bcb5",
   "metadata": {},
   "outputs": [
    {
     "data": {
      "text/plain": [
       "KstestResult(statistic=0.9999992929251458, pvalue=1.5615125997642016e-86)"
      ]
     },
     "execution_count": 58,
     "metadata": {},
     "output_type": "execute_result"
    }
   ],
   "source": [
    "kstest(dfpilot_azsrate['rate'], 'norm')"
   ]
  },
  {
   "cell_type": "code",
   "execution_count": 59,
   "id": "e79f96e4",
   "metadata": {},
   "outputs": [
    {
     "data": {
      "text/plain": [
       "KstestResult(statistic=0.9999993173347475, pvalue=1.0143156022306871e-271)"
      ]
     },
     "execution_count": 59,
     "metadata": {},
     "output_type": "execute_result"
    }
   ],
   "source": [
    "kstest(dfcontr_azsrate['rate'], 'norm')"
   ]
  },
  {
   "cell_type": "code",
   "execution_count": 60,
   "id": "24a37653",
   "metadata": {},
   "outputs": [
    {
     "name": "stdout",
     "output_type": "stream",
     "text": [
      "Two Sample t-test\n",
      "t = 1.030744823966293\n",
      "p-value = 0.3070918118671506\n",
      "df =  56.0\n"
     ]
    }
   ],
   "source": [
    "res = sm.stats.ttest_ind(dfcontr_azsrate['rate'], dfpilot_azsrate['rate'])\n",
    "print(\"Two Sample t-test\")\n",
    "print(\"t =\", res[0])\n",
    "print(\"p-value =\", res[1])\n",
    "print(\"df = \", res[2])\n",
    "\n",
    "if res[1] > 0.05:\n",
    "    print('There is a statistical significance. There is a difference between AZS rating in 2 expirements')\n",
    "else: \n",
    "    print('There is no statistical significance. There is no difference between AZS rating in 2 expirements')"
   ]
  },
  {
   "cell_type": "markdown",
   "id": "8507df2f",
   "metadata": {},
   "source": [
    "### Amount of rates 08,09 "
   ]
  },
  {
   "cell_type": "code",
   "execution_count": 8,
   "id": "25e3995e",
   "metadata": {},
   "outputs": [],
   "source": [
    "sns.set(rc={'figure.figsize':(11.7,8.27)})\n",
    "groups = sns.histplot( data = dataazs,\n",
    "                    x = 'amount',\n",
    "                    hue = 'label',\n",
    "                    palette = ['r', 'b'],\n",
    "                    alpha=0.5,\n",
    "                    kde=True)\n",
    "plt.show()"
   ]
  },
  {
   "cell_type": "code",
   "execution_count": 62,
   "id": "a52269c0",
   "metadata": {},
   "outputs": [
    {
     "data": {
      "text/plain": [
       "KstestResult(statistic=1.0, pvalue=0.0)"
      ]
     },
     "execution_count": 62,
     "metadata": {},
     "output_type": "execute_result"
    }
   ],
   "source": [
    "kstest(dfpilot_azsrate['amount'], 'norm')"
   ]
  },
  {
   "cell_type": "code",
   "execution_count": 63,
   "id": "f2c90891",
   "metadata": {},
   "outputs": [
    {
     "data": {
      "text/plain": [
       "KstestResult(statistic=1.0, pvalue=0.0)"
      ]
     },
     "execution_count": 63,
     "metadata": {},
     "output_type": "execute_result"
    }
   ],
   "source": [
    "kstest(dfcontr_azsrate['amount'], 'norm')"
   ]
  },
  {
   "cell_type": "code",
   "execution_count": 65,
   "id": "8ceae878",
   "metadata": {},
   "outputs": [
    {
     "name": "stdout",
     "output_type": "stream",
     "text": [
      "Two Sample t-test\n",
      "t = -1.0888557681261295\n",
      "p-value = 0.28088128182315436\n",
      "df =  56.0\n"
     ]
    }
   ],
   "source": [
    "res = sm.stats.ttest_ind(dfcontr_azsrate['amount'], dfpilot_azsrate['amount'])\n",
    "print(\"Two Sample t-test\")\n",
    "print(\"t =\", res[0])\n",
    "print(\"p-value =\", res[1])\n",
    "print(\"df = \", res[2])\n",
    "\n",
    "if res[1] > 0.05:\n",
    "    print('There is a statistical significance. There is a difference between amount of rates in 2 expirements')\n",
    "else: \n",
    "    print('There is no statistical significance. There is no difference between amount of rates in 2 expirements')"
   ]
  },
  {
   "cell_type": "markdown",
   "id": "cd57ee76",
   "metadata": {},
   "source": [
    "##  06, 07 "
   ]
  },
  {
   "cell_type": "code",
   "execution_count": 75,
   "id": "728466a8",
   "metadata": {},
   "outputs": [],
   "source": [
    "dfpilot_azsrate_67 = pd.read_sql('''\n",
    "\n",
    "select  station_name, a.amount as amount, round(sum(a.sum)/sum(a.amount),3) as rate\n",
    "from\n",
    "(\n",
    "select \n",
    "    station_name,\n",
    "    count (rate) as amount,\n",
    "    sum (rate) as sum\n",
    "from \n",
    "public.azs_rating\n",
    "where  date_created >= '2022-06-01' and  date_created < '2022-08-01'\n",
    "and station_name in ('АЗС №50624','АЗС №36712','АЗС № 36712','АЗС № 23284','АЗС №23284','АЗС №23043','АЗС № 23043','АЗС №01159','АЗС № 01159','АЗС №23006','АЗС № 23006','АЗС №77511','АЗС № 77511','АЗС №77624','АЗС № 77624','АЗС №50623','АЗС № 26078','АЗС №26078','АЗС № 23373','АЗС №23373','АЗС № 23044','АЗС №23044','АЗС №77621','АЗС № 77621','АЗС №23374','АЗС № 23374')\n",
    "group by station_name\n",
    ") as a\n",
    "group by station_name, amount, sum\n",
    "''', connection)"
   ]
  },
  {
   "cell_type": "code",
   "execution_count": 76,
   "id": "84d74010",
   "metadata": {},
   "outputs": [],
   "source": [
    "dfcontr_azsrate_67 = pd.read_sql('''\n",
    "\n",
    "select  station_name, a.amount as amount, round(sum(a.sum)/sum(a.amount),3) as rate\n",
    "from\n",
    "(\n",
    "select \n",
    "    station_name,\n",
    "    count (rate) as amount,\n",
    "    sum (rate) as sum\n",
    "from \n",
    "public.azs_rating\n",
    "where  date_created >= '2022-06-01' and  date_created < '2022-08-01'\n",
    "and station_name in ('АЗС № 50407','АЗС №50407','АЗС №77617','АЗС № 77617','АЗС №34450','АЗС № 34450','АЗС №50264','АЗС № 50264','АЗС №26077','АЗС № 26077','АЗС №61315','АЗС № 61315','АЗС № 34510','АЗС №34510','АЗС № 50244','АЗС №50244',\n",
    "'АЗС №77607','АЗС № 77607','АЗС №61361','АЗС № 61361','АЗС № 77571','АЗС №77571','АЗС №69472','АЗС № 61326','АЗС №61326','АЗС № 34488',\n",
    "'АЗС №34488','АЗС № 61297','АЗС №61297','АЗС №77620','АЗС № 77620','АЗС №36720','АЗС № 36720','АЗС №50427','АЗС № 50427','АЗС № 23275',\n",
    "'АЗС №23275','АЗС № 77516','АЗС №77516','АЗС №26099','АЗС № 26099','АЗС № 77618','АЗС №77618','АЗС №23282','АЗС № 23282','АЗС №23170','АЗС № 23170',\n",
    "'АЗС № 36722','АЗС №36722','АЗС №23017','АЗС № 23017','АЗС №77596','АЗС № 77596','АЗС №08546','АЗС № 08546','АЗС № 23223','АЗС №23223',\n",
    "'АЗC №36730','АЗC № 36730','АЗС № 26359','АЗС №26359','АЗС № 77544','АЗС №77544','АЗС №36716','АЗС № 36716','АЗС № 61310',\n",
    "'АЗС №61310','АЗС № 69471','АЗС №69471','АЗС № 23010','АЗС №23010','АЗС №23045','АЗС № 23045','АЗС №77502','АЗС № 77502','АЗС №36703','АЗС № 36703','АЗС № 77619','АЗС №77619','АЗС №23261','АЗС № 23070','АЗС №23070','АЗС №50488','АЗС № 23229','АЗС №23229')\n",
    " group by station_name\n",
    ") as a\n",
    "group by station_name, amount, sum\n",
    "\n",
    "''', connection)"
   ]
  },
  {
   "cell_type": "code",
   "execution_count": 81,
   "id": "b108b77e",
   "metadata": {},
   "outputs": [],
   "source": [
    "dfpilot_azsrate_67['label']=1\n",
    "dfcontr_azsrate_67['label']=0\n",
    "dataazs_67=pd.concat([dfpilot_azsrate_67,dfcontr_azsrate_67], axis=0, ignore_index=True)"
   ]
  },
  {
   "cell_type": "markdown",
   "id": "b1a6ccdc",
   "metadata": {},
   "source": [
    "### Azs rating 06, 07 "
   ]
  },
  {
   "cell_type": "code",
   "execution_count": 9,
   "id": "cd815b33",
   "metadata": {},
   "outputs": [],
   "source": [
    "sns.set(rc={'figure.figsize':(11.7,8.27)})\n",
    "groups = sns.histplot( data = dataazs_67,\n",
    "                    x = 'rate',\n",
    "                    hue = 'label',\n",
    "                    palette = ['r', 'b'],\n",
    "                    alpha=0.5,\n",
    "                    kde=True)\n",
    "plt.show()"
   ]
  },
  {
   "cell_type": "code",
   "execution_count": 85,
   "id": "87c37da0",
   "metadata": {},
   "outputs": [
    {
     "data": {
      "text/plain": [
       "KstestResult(statistic=0.9999994448258, pvalue=5.284937443405945e-88)"
      ]
     },
     "execution_count": 85,
     "metadata": {},
     "output_type": "execute_result"
    }
   ],
   "source": [
    "kstest(dfpilot_azsrate_67['rate'], 'norm')"
   ]
  },
  {
   "cell_type": "code",
   "execution_count": 86,
   "id": "dc7e9371",
   "metadata": {},
   "outputs": [
    {
     "data": {
      "text/plain": [
       "KstestResult(statistic=0.9999989677202402, pvalue=8.093122746754876e-264)"
      ]
     },
     "execution_count": 86,
     "metadata": {},
     "output_type": "execute_result"
    }
   ],
   "source": [
    "kstest(dfcontr_azsrate_67['rate'], 'norm')"
   ]
  },
  {
   "cell_type": "code",
   "execution_count": 87,
   "id": "aaeb6eba",
   "metadata": {},
   "outputs": [
    {
     "name": "stdout",
     "output_type": "stream",
     "text": [
      "Two Sample t-test\n",
      "t = 0.4364251518317759\n",
      "p-value = 0.6642063391026083\n",
      "df =  56.0\n"
     ]
    }
   ],
   "source": [
    "res = sm.stats.ttest_ind(dfcontr_azsrate_67['rate'], dfpilot_azsrate_67['rate'])\n",
    "print(\"Two Sample t-test\")\n",
    "print(\"t =\", res[0])\n",
    "print(\"p-value =\", res[1])\n",
    "print(\"df = \", res[2])\n",
    "\n",
    "if res[1] < 0.05:\n",
    "    print('There is a statistical significance. There is a difference between AZS rating in 2 expirements')\n",
    "else: \n",
    "    print('There is no statistical significance. There is no difference between AZS rating in 2 expirements')"
   ]
  },
  {
   "cell_type": "markdown",
   "id": "5711bf4a",
   "metadata": {},
   "source": [
    "### Amount of rates 06,07"
   ]
  },
  {
   "cell_type": "code",
   "execution_count": 10,
   "id": "eb44a0a1",
   "metadata": {},
   "outputs": [],
   "source": [
    "sns.set(rc={'figure.figsize':(11.7,8.27)})\n",
    "groups = sns.histplot( data = dataazs_67,\n",
    "                    x = 'amount',\n",
    "                    hue = 'label',\n",
    "                    palette = ['r', 'b'],\n",
    "                    alpha=0.5,\n",
    "                    kde=True)\n",
    "plt.show()"
   ]
  },
  {
   "cell_type": "code",
   "execution_count": 89,
   "id": "13fc096a",
   "metadata": {},
   "outputs": [
    {
     "data": {
      "text/plain": [
       "KstestResult(statistic=1.0, pvalue=0.0)"
      ]
     },
     "execution_count": 89,
     "metadata": {},
     "output_type": "execute_result"
    }
   ],
   "source": [
    "kstest(dfpilot_azsrate_67['amount'], 'norm')"
   ]
  },
  {
   "cell_type": "code",
   "execution_count": 90,
   "id": "3e5aa454",
   "metadata": {},
   "outputs": [
    {
     "data": {
      "text/plain": [
       "KstestResult(statistic=1.0, pvalue=0.0)"
      ]
     },
     "execution_count": 90,
     "metadata": {},
     "output_type": "execute_result"
    }
   ],
   "source": [
    "kstest(dfcontr_azsrate_67['amount'], 'norm')"
   ]
  },
  {
   "cell_type": "code",
   "execution_count": 91,
   "id": "ae7d5121",
   "metadata": {},
   "outputs": [
    {
     "name": "stdout",
     "output_type": "stream",
     "text": [
      "Two Sample t-test\n",
      "t = -1.8004469940467165\n",
      "p-value = 0.07717652394085134\n",
      "df =  56.0\n"
     ]
    }
   ],
   "source": [
    "res = sm.stats.ttest_ind(dfcontr_azsrate_67['amount'], dfpilot_azsrate_67['amount'])\n",
    "print(\"Two Sample t-test\")\n",
    "print(\"t =\", res[0])\n",
    "print(\"p-value =\", res[1])\n",
    "print(\"df = \", res[2])\n",
    "\n",
    "if res[1] < 0.05:\n",
    "    print('There is a statistical significance. There is a difference between amount of rates in 2 expirements')\n",
    "else: \n",
    "    print('There is no statistical significance. There is no difference between amount of rates in 2 expirements')"
   ]
  }
 ],
 "metadata": {
  "kernelspec": {
   "display_name": "Python 3",
   "language": "python",
   "name": "python3"
  },
  "language_info": {
   "codemirror_mode": {
    "name": "ipython",
    "version": 3
   },
   "file_extension": ".py",
   "mimetype": "text/x-python",
   "name": "python",
   "nbconvert_exporter": "python",
   "pygments_lexer": "ipython3",
   "version": "3.9.13 (main, Aug 25 2022, 23:51:50) [MSC v.1916 64 bit (AMD64)]"
  },
  "vscode": {
   "interpreter": {
    "hash": "63fc7e0a25045952860f0f92256cb7c51673d0e68300d5403299f8c0bae9b1d4"
   }
  }
 },
 "nbformat": 4,
 "nbformat_minor": 5
}
