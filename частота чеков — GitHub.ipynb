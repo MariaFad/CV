{
 "cells": [
  {
   "cell_type": "markdown",
   "metadata": {},
   "source": [
    "### Creation of graphs that show the average number of transactions by hours for each day in a week (for determining queue at gas stations)"
   ]
  },
  {
   "cell_type": "code",
   "execution_count": 354,
   "metadata": {},
   "outputs": [],
   "source": [
    "import pandas as pd \n",
    "import psycopg2 \n",
    "import warnings\n",
    "import numpy as np \n",
    "from sklearn.utils import shuffle\n",
    "import cx_Oracle\n",
    "import datetime\n",
    "from pandas. tseries.offsets import DateOffset\n",
    "from datetime import date\n",
    "import seaborn as sns\n",
    "import matplotlib.pyplot as plt\n",
    "import matplotlib.dates as mdates\n",
    "import itertools\n",
    "\n",
    "warnings.filterwarnings(\"ignore\")\n",
    "pd.set_option('display.max_columns', None)\n",
    "\n",
    "# Сбор данных за день недели (сумма кол-ва чеков по часам)\n",
    "def df (month_09, month_10, month_11, azs):\n",
    "\tdf = f\"\"\"select\"\"\"\n",
    "\tfor i in t:\n",
    "\t\tif i == '23':\n",
    "\t\t\tdf += f\"\"\"\n",
    "count(distinct case when org_ksss in ({str(azs)[1:-1]}) and\n",
    "\t  (date_part('month', dt) = '09' and date_part('day', dt) in ({str(month_09)[1:-1]})\n",
    "\t    or\n",
    "\t   date_part('month', dt) = '10' and date_part('day', dt) in ({str(month_10)[1:-1]})\t\n",
    "\t \tor\n",
    "\t   date_part('month', dt) = '11' and date_part('day', dt) in ({str(month_11)[1:-1]}))\t\t\t\t\t\t\t\t \n",
    "\t   and date_part('hour', operation_date) = '{i}' \n",
    "\t   and ltr_vol<>0 and qnt = 0 then cheque_id else null end) as \"{i}\"\n",
    "from public.pet_chk_22 \"\"\"\n",
    "\t\telse:\n",
    "\t\t\tdf += f\"\"\"\n",
    "count(distinct case when org_ksss in ({str(azs)[1:-1]}) and\n",
    "\t  (date_part('month', dt) = '09' and date_part('day', dt) in ({str(month_09)[1:-1]})\n",
    "\t    or\n",
    "\t   date_part('month', dt) = '10' and date_part('day', dt) in ({str(month_10)[1:-1]})\t\n",
    "\t \tor\n",
    "\t   date_part('month', dt) = '11' and date_part('day', dt) in ({str(month_11)[1:-1]}))\t\t\t\t\t\t\t\t \n",
    "\t   and date_part('hour', operation_date) = '{i}' \n",
    "\t   and ltr_vol<>0 and qnt = 0 then cheque_id else null end) as \"{i}\",\n",
    "       \"\"\"\n",
    "\treturn df\n",
    "\n",
    "# перевод таблицы в формат: час:среднее кол-во чеков за час\n",
    "def format (df):\n",
    "    df = df.T\n",
    "    df = df.reset_index()\n",
    "    df.columns = ['time', 'amount']\n",
    "    df['amount'] = df['amount']/13\n",
    "    return df\n",
    "\n",
    "# высчитывание среднего чека по кол-ву чеков на утро(23:00-05:59) и день(06:00-22:59)\n",
    "def morning (df):\n",
    "    morning = df[df.time.isin(['23','00','01','02','03','04','05'])].amount.sum()/7\n",
    "    return morning\n",
    "def day (df):\n",
    "    day = df[~df.time.isin(['23','00','01','02','03','04','05'])].amount.sum()/17\n",
    "    return day\n",
    "\n",
    "# Создание графика\n",
    "def chart (x, y, name, morning, day):\n",
    "\n",
    "    fig, ax = plt.subplots()\n",
    "    ax.bar(x, y, width=0.98)\n",
    "\n",
    "    ax.set_ylabel('Среднее кол-во чеков', fontsize=14)\n",
    "    ax.set_xlabel('Время, часы', fontsize=14)\n",
    "    ax.set_title(name, fontsize=16)\n",
    "    ax.grid(color='gray', linewidth=1, axis='y', alpha=0.6)\n",
    "\n",
    "\n",
    "    fig.set_figwidth(20)  \n",
    "    fig.set_figheight(8)\n",
    "\n",
    "        # Добавление линий для утра и дня\n",
    "    plt.axhline(y=morning, xmax=0.27, color='blue',  ls='dotted', linewidth=2, label = 'утро (23:00-05:59)')\n",
    "    plt.axhline(y=morning, xmin=0.92, color='blue',  ls='dotted', linewidth=2)\n",
    "    plt.legend(loc = 'upper left')\n",
    "    plt.axhline(y=day, xmin=0.27, xmax=0.92, color='red', ls='dotted', linewidth=2, label = 'день (06:00-22:59)')\n",
    "    plt.legend(loc = 'upper left')\n",
    "\n",
    "    plt.show()\n",
    "\n",
    "# время\n",
    "t = ['00', '01', '02', '03', '04', '05', '06', '07', '08', '09', '10', '11', '12', '13', '14', '15', '16', '17', '18', '19', '20', '21', '22', '23']\n",
    "# Сбор данных за каждый день (сумма кол-ва чеков за каждый день по часам)\n",
    "def df_full (month_09, month_10, month_11, azs):\n",
    "    df_full = f\"\"\"select\"\"\"\n",
    "    for s in month_09:\n",
    "        for i in t:\n",
    "             df_full += f\"\"\"\n",
    "    count(distinct case when org_ksss in ({str(azs)[1:-1]}) and\n",
    "        date_part('month', dt) = '09' and date_part('day', dt) = '{s}'\n",
    "        and date_part('hour', operation_date) = '{i}' \n",
    "        and ltr_vol<>0 and qnt = 0 then cheque_id else null end) as \"2022-09-{s} {i}:00:00\", \"\"\"\n",
    "    for o in month_10:\n",
    "        for i in t:\n",
    "            df_full += f\"\"\"\n",
    "    count(distinct case when org_ksss in ({str(azs)[1:-1]}) and\n",
    "        date_part('month', dt) = '10' and date_part('day', dt) = '{o}'\n",
    "        and date_part('hour', operation_date) = '{i}' \n",
    "        and ltr_vol<>0 and qnt = 0 then cheque_id else null end) as \"2022-10-{o} {i}:00:00\", \"\"\"\n",
    "    for n in month_11:\n",
    "        for i in t:\n",
    "            if n == month_11[-1] and i == '23':\n",
    "                df_full += f\"\"\"\n",
    "    count(distinct case when org_ksss in ({str(azs)[1:-1]}) and\n",
    "        date_part('month', dt) = '11' and date_part('day', dt) = '{n}'\n",
    "        and date_part('hour', operation_date) = '{i}' \n",
    "        and ltr_vol<>0 and qnt = 0 then cheque_id else null end) as \"2022-11-{n} {i}:00:00\"\n",
    "        from public.pet_chk_22\"\"\"\n",
    "            else:\n",
    "                df_full += f\"\"\"\n",
    "    count(distinct case when org_ksss in ({str(azs)[1:-1]}) and\n",
    "        date_part('month', dt) = '11' and date_part('day', dt) = '{n}'\n",
    "        and date_part('hour', operation_date) = '{i}' \n",
    "        and ltr_vol<>0 and qnt = 0 then cheque_id else null end) as \"2022-11-{n} {i}:00:00\", \"\"\"\n",
    "    return df_full\n",
    "\n",
    "# создание колонки час\n",
    "def hr_func(ts):\n",
    "    return ts.hour\n",
    "\n",
    "# перевод таблицы в формат: дата,время :среднее кол-во чеков за час: час \n",
    "def format_2 (df):\n",
    "    df = df.T\n",
    "    df = df.reset_index()\n",
    "    df.columns = ['time', 'amount']\n",
    "    df['time'] = pd.to_datetime(df['time'])\n",
    "    # добавление колонки час\n",
    "    df['hour'] = df['time'].apply(hr_func)\n",
    "    return df\n",
    "\n",
    "# Аномалии (кол-во чеков) УТРО\n",
    "def morning_an (df):\n",
    "    morning_full = df[df.hour.isin([23, 0, 1, 2, 3, 4, 5])].amount\n",
    "    sort_morning_full = np.sort(morning_full) # сортировка собранных данных\n",
    "    # высчитывание квартилей, нахождение верхних и нижних пределов\n",
    "    Q1_morning=np.percentile(sort_morning_full, 25, interpolation='midpoint')\n",
    "    Q2_morning=np.percentile(sort_morning_full, 50, interpolation='midpoint')\n",
    "    Q3_morning=np.percentile(sort_morning_full, 75, interpolation='midpoint')\n",
    "    IQR_morning = Q3_morning - Q1_morning\n",
    "    low_lim_morning = Q1_morning - 1.5*IQR_morning\n",
    "    up_lim_morning = Q3_morning + 1.5*IQR_morning\n",
    "    # нахождение outliers\n",
    "    outliers_morning_am=[]\n",
    "    for x in morning_full:\n",
    "        if ((x>up_lim_morning) or (x<low_lim_morning)):\n",
    "            outliers_morning_am.append(x)\n",
    "    outliers_morning = df[df.amount.isin(outliers_morning_am)]\n",
    "    outliers_morning = outliers_morning.sort_values(by = ['hour'])\n",
    "    return print('УТРО', outliers_morning), sns.boxplot(morning_full)\n",
    "\n",
    "# Аномалии (кол-во чеков) ДЕНЬ\n",
    "def day_an (df):\n",
    "    day_full = df[~df.hour.isin([23, 0, 1, 2, 3, 4, 5])].amount\n",
    "    sort_day_full = np.sort(day_full) # сортировка собранных данных\n",
    "    # высчитывание квартилей, нахождение верхних и нижних пределов\n",
    "    Q1_day=np.percentile(sort_day_full, 25, interpolation='midpoint')\n",
    "    Q2_day=np.percentile(sort_day_full, 50, interpolation='midpoint')\n",
    "    Q3_day=np.percentile(sort_day_full, 75, interpolation='midpoint')\n",
    "    IQR_day = Q3_day - Q1_day\n",
    "    low_lim_day = Q1_day - 1.5*IQR_day\n",
    "    up_lim_day = Q3_day + 1.5*IQR_day\n",
    "    # нахождение outliers\n",
    "    outliers_day_am=[]\n",
    "    for x in day_full:\n",
    "        if ((x>up_lim_day) or (x<low_lim_day)):\n",
    "            outliers_day_am.append(x)\n",
    "    outliers_day = df[df.amount.isin(outliers_day_am)]\n",
    "    outliers_day = outliers_day.sort_values(by = ['hour'])\n",
    "    return print('ДЕНЬ', outliers_day), sns.boxplot(day_full)"
   ]
  },
  {
   "cell_type": "code",
   "execution_count": 268,
   "metadata": {},
   "outputs": [],
   "source": [
    "# Сбор данных из Greenplum: Топ 50 АЗС по выручке\n",
    "top_50 = f\"\"\" \n",
    "select org_ksss, org_name, npo,  sum(amount) as summa\n",
    "from public.pet_chk_22\n",
    "where date_part('month', dt) = '09' or date_part('month', dt) = '10' or date_part('month', dt) = '11'\n",
    "group by org_ksss, org_name, npo\n",
    "order by summa desc\n",
    "limit 50\n",
    "\"\"\"\n",
    "#Считываем данные из sql\n",
    "df_top = pd.read_sql(top_50, connection)"
   ]
  },
  {
   "cell_type": "code",
   "execution_count": 1,
   "metadata": {},
   "outputs": [],
   "source": [
    "# Считываю 3 первые АЗС и 3 последние АЗС\n",
    "first1 = df_top.head(3)\n",
    "last1 = df_top.tail(3)\n",
    "first = list(first1['org_ksss'])\n",
    "last = list(last1['org_ksss'])\n",
    "first = [str(i) for i in first]\n",
    "last = [str(i) for i in last]"
   ]
  },
  {
   "cell_type": "markdown",
   "metadata": {},
   "source": [
    "# ПОНЕДЕЛЬНИК"
   ]
  },
  {
   "cell_type": "markdown",
   "metadata": {},
   "source": [
    "## Среднее кол-во чеков по часам в ПОНЕДЕЛЬНИК"
   ]
  },
  {
   "cell_type": "code",
   "execution_count": 342,
   "metadata": {},
   "outputs": [],
   "source": [
    "# понедельники за каждый месяц\n",
    "mon_09 = ['05','12','19','26']\n",
    "mon_10 = ['03','10','17','24','31']\n",
    "mon_11 = ['07','14','21','28']"
   ]
  },
  {
   "cell_type": "markdown",
   "metadata": {},
   "source": [
    "### Первые 3 АЗС"
   ]
  },
  {
   "cell_type": "code",
   "execution_count": 344,
   "metadata": {},
   "outputs": [],
   "source": [
    "# Сбор данных за понедельники (сумма кол-ва чеков по часам)\n",
    "first_mon = pd.read_sql(df(mon_09, mon_10, mon_11, first), connection)\n",
    "first_mon = format(first_mon)"
   ]
  },
  {
   "cell_type": "code",
   "execution_count": 2,
   "metadata": {},
   "outputs": [],
   "source": [
    "chart(first_mon['time'], first_mon['amount'], 'Среднее кол-во чеков по часам в понедельник', morning(first_mon), day(first_mon))"
   ]
  },
  {
   "cell_type": "markdown",
   "metadata": {},
   "source": [
    "### Последние 3 АЗС"
   ]
  },
  {
   "cell_type": "code",
   "execution_count": 346,
   "metadata": {},
   "outputs": [],
   "source": [
    "# Сбор данных за понедельники (сумма кол-ва чеков по часам)\n",
    "last_mon = pd.read_sql(df(mon_09, mon_10, mon_11, last), connection)\n",
    "last_mon = format(last_mon)"
   ]
  },
  {
   "cell_type": "code",
   "execution_count": 3,
   "metadata": {},
   "outputs": [],
   "source": [
    "chart(last_mon['time'], last_mon['amount'], 'Среднее кол-во чеков по часам в понедельник', morning(last_mon), day(last_mon))"
   ]
  },
  {
   "cell_type": "markdown",
   "metadata": {},
   "source": [
    "## Аномалии (кол-во чеков) в ПОНЕДЕЛЬНИК"
   ]
  },
  {
   "cell_type": "markdown",
   "metadata": {},
   "source": [
    "### Первые 3 АЗС"
   ]
  },
  {
   "cell_type": "code",
   "execution_count": 355,
   "metadata": {},
   "outputs": [],
   "source": [
    "# создание таблицы (день:кол-во чеков:час) по каждому понедельнику\n",
    "first_mon_full = pd.read_sql(df_full(mon_09, mon_10, mon_11, first), connection)\n",
    "first_mon_full = format_2(first_mon_full)"
   ]
  },
  {
   "cell_type": "code",
   "execution_count": 7,
   "metadata": {},
   "outputs": [],
   "source": [
    "morning_an (first_mon_full)"
   ]
  },
  {
   "cell_type": "code",
   "execution_count": 4,
   "metadata": {},
   "outputs": [],
   "source": [
    "day_an(first_mon_full)"
   ]
  },
  {
   "cell_type": "markdown",
   "metadata": {},
   "source": [
    "### Последние 3 АЗС"
   ]
  },
  {
   "cell_type": "code",
   "execution_count": 358,
   "metadata": {},
   "outputs": [],
   "source": [
    "# создание таблицы (день:кол-во чеков:час) по каждому понедельнику\n",
    "last_mon_full = pd.read_sql(df_full(mon_09, mon_10, mon_11, last), connection)\n",
    "last_mon_full = format_2(last_mon_full)"
   ]
  },
  {
   "cell_type": "code",
   "execution_count": 8,
   "metadata": {},
   "outputs": [],
   "source": [
    "morning_an (last_mon_full)"
   ]
  },
  {
   "cell_type": "code",
   "execution_count": 9,
   "metadata": {},
   "outputs": [],
   "source": [
    "day_an(last_mon_full)"
   ]
  },
  {
   "cell_type": "markdown",
   "metadata": {},
   "source": [
    "# ВТОРНИК"
   ]
  },
  {
   "cell_type": "markdown",
   "metadata": {},
   "source": [
    "## Среднее кол-во чеков по часам во ВТОРНИК"
   ]
  },
  {
   "cell_type": "code",
   "execution_count": 361,
   "metadata": {},
   "outputs": [],
   "source": [
    "# вторники за каждый месяц\n",
    "tue_09 = ['06','13','20','27']\n",
    "tue_10 = ['04','11','18','25']\n",
    "tue_11 = ['01','08','15','22','29']"
   ]
  },
  {
   "cell_type": "markdown",
   "metadata": {},
   "source": [
    "### Первые 3 АЗС"
   ]
  },
  {
   "cell_type": "code",
   "execution_count": 362,
   "metadata": {},
   "outputs": [],
   "source": [
    "# Сбор данных за вторники (сумма кол-ва чеков по часам)\n",
    "first_tue = pd.read_sql(df(tue_09, tue_10, tue_11, first), connection)\n",
    "first_tue = format(first_tue)"
   ]
  },
  {
   "cell_type": "code",
   "execution_count": 10,
   "metadata": {},
   "outputs": [],
   "source": [
    "chart(first_tue['time'], first_tue['amount'], 'Среднее кол-во чеков по часам во вторник', morning(first_tue), day(first_tue))"
   ]
  },
  {
   "cell_type": "markdown",
   "metadata": {},
   "source": [
    "### Последние 3 АЗС"
   ]
  },
  {
   "cell_type": "code",
   "execution_count": 364,
   "metadata": {},
   "outputs": [],
   "source": [
    "# Сбор данных за вторники (сумма кол-ва чеков по часам)\n",
    "last_tue = pd.read_sql(df(tue_09, tue_10, tue_11, last), connection)\n",
    "last_tue = format(last_tue)"
   ]
  },
  {
   "cell_type": "code",
   "execution_count": 11,
   "metadata": {},
   "outputs": [],
   "source": [
    "chart(last_tue['time'], last_tue['amount'], 'Среднее кол-во чеков по часам во вторник', morning(last_tue), day(last_tue))"
   ]
  },
  {
   "cell_type": "markdown",
   "metadata": {},
   "source": [
    "## Аномалии (кол-во чеков) во ВТОРНИК"
   ]
  },
  {
   "cell_type": "markdown",
   "metadata": {},
   "source": [
    "### Первые 3 АЗС"
   ]
  },
  {
   "cell_type": "code",
   "execution_count": 366,
   "metadata": {},
   "outputs": [],
   "source": [
    "# создание таблицы (день:кол-во чеков:час) по каждому вторнику\n",
    "first_tue_full = pd.read_sql(df_full(tue_09, tue_10, tue_11, first), connection)\n",
    "first_tue_full = format_2(first_tue_full)"
   ]
  },
  {
   "cell_type": "code",
   "execution_count": 12,
   "metadata": {},
   "outputs": [],
   "source": [
    "morning_an (first_tue_full)"
   ]
  },
  {
   "cell_type": "code",
   "execution_count": 13,
   "metadata": {},
   "outputs": [],
   "source": [
    "day_an (first_tue_full)"
   ]
  },
  {
   "cell_type": "markdown",
   "metadata": {},
   "source": [
    "### Последние 3 АЗС"
   ]
  },
  {
   "cell_type": "code",
   "execution_count": 369,
   "metadata": {},
   "outputs": [],
   "source": [
    "# создание таблицы (день:кол-во чеков:час) по каждому вторнику\n",
    "last_tue_full = pd.read_sql(df_full(tue_09, tue_10, tue_11, last), connection)\n",
    "last_tue_full = format_2(last_tue_full)"
   ]
  },
  {
   "cell_type": "code",
   "execution_count": 14,
   "metadata": {},
   "outputs": [],
   "source": [
    "morning_an (last_tue_full)"
   ]
  },
  {
   "cell_type": "code",
   "execution_count": 15,
   "metadata": {},
   "outputs": [],
   "source": [
    "day_an (last_tue_full)"
   ]
  },
  {
   "cell_type": "markdown",
   "metadata": {},
   "source": [
    "# СРЕДА"
   ]
  },
  {
   "cell_type": "markdown",
   "metadata": {},
   "source": [
    "## Среднее кол-во чеков по часам в СРЕДУ"
   ]
  },
  {
   "cell_type": "code",
   "execution_count": 372,
   "metadata": {},
   "outputs": [],
   "source": [
    "# среды за каждый месяц\n",
    "wed_09 = ['07','14','21','28']\n",
    "wed_10 = ['05','12','19','26']\n",
    "wed_11 = ['02','09','16','23','30']"
   ]
  },
  {
   "cell_type": "markdown",
   "metadata": {},
   "source": [
    "### Первые 3 АЗС"
   ]
  },
  {
   "cell_type": "code",
   "execution_count": 373,
   "metadata": {},
   "outputs": [],
   "source": [
    "# Сбор данных за среды (сумма кол-ва чеков по часам)\n",
    "first_wed = pd.read_sql(df(wed_09, wed_10, wed_11, first), connection)\n",
    "first_wed = format(first_wed)"
   ]
  },
  {
   "cell_type": "code",
   "execution_count": 374,
   "metadata": {},
   "outputs": [],
   "source": [
    "\n",
    "df_temp = first_wed[first_wed.time.isin(['23','00','01','02','03','04','05'])]"
   ]
  },
  {
   "cell_type": "code",
   "execution_count": 16,
   "metadata": {},
   "outputs": [],
   "source": [
    "df_temp.amount.mean()"
   ]
  },
  {
   "cell_type": "code",
   "execution_count": 17,
   "metadata": {},
   "outputs": [],
   "source": [
    "chart(first_wed['time'], first_wed['amount'], 'Среднее кол-во чеков по часам в среду', morning(first_wed), day(first_wed))"
   ]
  },
  {
   "cell_type": "markdown",
   "metadata": {},
   "source": [
    "### Последние 3 АЗС"
   ]
  },
  {
   "cell_type": "code",
   "execution_count": 378,
   "metadata": {},
   "outputs": [],
   "source": [
    "# Сбор данных за среды (сумма кол-ва чеков по часам)\n",
    "last_wed = pd.read_sql(df(wed_09, wed_10, wed_11, last), connection)\n",
    "last_wed = format(last_wed)"
   ]
  },
  {
   "cell_type": "code",
   "execution_count": 18,
   "metadata": {},
   "outputs": [],
   "source": [
    "chart(last_wed['time'], last_wed['amount'], 'Среднее кол-во чеков по часам в среду', morning(last_wed), day(last_wed))"
   ]
  },
  {
   "cell_type": "markdown",
   "metadata": {},
   "source": [
    "## Аномалии (кол-во чеков) в СРЕДУ"
   ]
  },
  {
   "cell_type": "markdown",
   "metadata": {},
   "source": [
    "### Первые 3 АЗС"
   ]
  },
  {
   "cell_type": "code",
   "execution_count": 380,
   "metadata": {},
   "outputs": [],
   "source": [
    "# создание таблицы (день:кол-во чеков:час) по каждой среде\n",
    "first_wed_full = pd.read_sql(df_full(wed_09, wed_10, wed_11, first), connection)\n",
    "first_wed_full = format_2(first_wed_full)"
   ]
  },
  {
   "cell_type": "code",
   "execution_count": 19,
   "metadata": {},
   "outputs": [],
   "source": [
    "morning_an (first_wed_full)"
   ]
  },
  {
   "cell_type": "code",
   "execution_count": 20,
   "metadata": {},
   "outputs": [],
   "source": [
    "day_an (first_wed_full)"
   ]
  },
  {
   "cell_type": "markdown",
   "metadata": {},
   "source": [
    "### Последние 3 АЗС"
   ]
  },
  {
   "cell_type": "code",
   "execution_count": 383,
   "metadata": {},
   "outputs": [],
   "source": [
    "# создание таблицы (день:кол-во чеков:час) по каждой среде\n",
    "last_wed_full = pd.read_sql(df_full(wed_09, wed_10, wed_11, last), connection)\n",
    "last_wed_full = format_2(last_wed_full)"
   ]
  },
  {
   "cell_type": "code",
   "execution_count": 21,
   "metadata": {},
   "outputs": [],
   "source": [
    "morning_an (last_wed_full)"
   ]
  },
  {
   "cell_type": "code",
   "execution_count": 22,
   "metadata": {},
   "outputs": [],
   "source": [
    "day_an (last_wed_full)"
   ]
  },
  {
   "cell_type": "markdown",
   "metadata": {},
   "source": [
    "# ЧЕТВЕРГ"
   ]
  },
  {
   "cell_type": "markdown",
   "metadata": {},
   "source": [
    "## Среднее кол-во чеков по часам в ЧЕТВЕРГ"
   ]
  },
  {
   "cell_type": "code",
   "execution_count": 386,
   "metadata": {},
   "outputs": [],
   "source": [
    "# четверга за каждый месяц\n",
    "thu_09 = ['01','08','15','22','29']\n",
    "thu_10 = ['06','13','20','27']\n",
    "thu_11 = ['03','10','17','24']"
   ]
  },
  {
   "cell_type": "markdown",
   "metadata": {},
   "source": [
    "### Первые 3 АЗС"
   ]
  },
  {
   "cell_type": "code",
   "execution_count": 387,
   "metadata": {},
   "outputs": [],
   "source": [
    "# Сбор данных за четверга (сумма кол-ва чеков по часам)\n",
    "first_thu = pd.read_sql(df(thu_09, thu_10, thu_11, first), connection)\n",
    "first_thu = format(first_thu)"
   ]
  },
  {
   "cell_type": "code",
   "execution_count": 23,
   "metadata": {},
   "outputs": [],
   "source": [
    "chart(first_thu['time'], first_thu['amount'], 'Среднее кол-во чеков по часам в четверг', morning(first_thu), day(first_thu))"
   ]
  },
  {
   "cell_type": "markdown",
   "metadata": {},
   "source": [
    "### Последние 3 АЗС"
   ]
  },
  {
   "cell_type": "code",
   "execution_count": 389,
   "metadata": {},
   "outputs": [],
   "source": [
    "# Сбор данных за четверга (сумма кол-ва чеков по часам)\n",
    "last_thu = pd.read_sql(df(thu_09, thu_10, thu_11, last), connection)\n",
    "last_thu = format(last_thu)"
   ]
  },
  {
   "cell_type": "code",
   "execution_count": 24,
   "metadata": {},
   "outputs": [],
   "source": [
    "chart(last_thu['time'], last_thu['amount'], 'Среднее кол-во чеков по часам в четверг', morning(last_thu), day(last_thu))"
   ]
  },
  {
   "cell_type": "markdown",
   "metadata": {},
   "source": [
    "## Аномалии (кол-во чеков) в ЧЕТВЕРГ"
   ]
  },
  {
   "cell_type": "markdown",
   "metadata": {},
   "source": [
    "### Первые 3 АЗС"
   ]
  },
  {
   "cell_type": "code",
   "execution_count": 391,
   "metadata": {},
   "outputs": [],
   "source": [
    "# создание таблицы (день:кол-во чеков:час) по каждому четвергу\n",
    "first_thu_full = pd.read_sql(df_full(thu_09, thu_10, thu_11, first), connection)\n",
    "first_thu_full = format_2(first_thu_full)"
   ]
  },
  {
   "cell_type": "code",
   "execution_count": 25,
   "metadata": {},
   "outputs": [],
   "source": [
    "morning_an (first_thu_full)"
   ]
  },
  {
   "cell_type": "code",
   "execution_count": 26,
   "metadata": {},
   "outputs": [],
   "source": [
    "day_an (first_thu_full)"
   ]
  },
  {
   "cell_type": "markdown",
   "metadata": {},
   "source": [
    "### Последние 3 АЗС"
   ]
  },
  {
   "cell_type": "code",
   "execution_count": 394,
   "metadata": {},
   "outputs": [],
   "source": [
    "# создание таблицы (день:кол-во чеков:час) по каждому четвергу\n",
    "last_thu_full = pd.read_sql(df_full(thu_09, thu_10, thu_11, last), connection)\n",
    "last_thu_full = format_2(last_thu_full)"
   ]
  },
  {
   "cell_type": "code",
   "execution_count": 27,
   "metadata": {},
   "outputs": [],
   "source": [
    "morning_an (last_thu_full)"
   ]
  },
  {
   "cell_type": "code",
   "execution_count": 28,
   "metadata": {},
   "outputs": [],
   "source": [
    "day_an (last_thu_full)"
   ]
  },
  {
   "cell_type": "markdown",
   "metadata": {},
   "source": [
    "# ПЯТНИЦА"
   ]
  },
  {
   "cell_type": "markdown",
   "metadata": {},
   "source": [
    "## Среднее кол-во чеков по часам в ПЯТНИЦУ"
   ]
  },
  {
   "cell_type": "code",
   "execution_count": 397,
   "metadata": {},
   "outputs": [],
   "source": [
    "# пятницы за каждый месяц\n",
    "fri_09 = ['02','09','16','23','30']\n",
    "fri_10 = ['07','14','21','28']\n",
    "fri_11 = ['04','11','18','25']"
   ]
  },
  {
   "cell_type": "markdown",
   "metadata": {},
   "source": [
    "### Первые 3 АЗС"
   ]
  },
  {
   "cell_type": "code",
   "execution_count": 398,
   "metadata": {},
   "outputs": [],
   "source": [
    "# Сбор данных за пятницы (сумма кол-ва чеков по часам)\n",
    "first_fri = pd.read_sql(df(fri_09, fri_10, fri_11, first), connection)\n",
    "first_fri = format(first_fri)"
   ]
  },
  {
   "cell_type": "code",
   "execution_count": 29,
   "metadata": {},
   "outputs": [],
   "source": [
    "chart(first_fri['time'], first_fri['amount'], 'Среднее кол-во чеков по часам в пятницу', morning(first_fri), day(first_fri))"
   ]
  },
  {
   "cell_type": "markdown",
   "metadata": {},
   "source": [
    "### Последние 3 АЗС"
   ]
  },
  {
   "cell_type": "code",
   "execution_count": 400,
   "metadata": {},
   "outputs": [],
   "source": [
    "# Сбор данных за пятницы (сумма кол-ва чеков по часам)\n",
    "last_fri = pd.read_sql(df(fri_09, fri_10, fri_11, last), connection)\n",
    "last_fri = format(last_fri)"
   ]
  },
  {
   "cell_type": "code",
   "execution_count": 30,
   "metadata": {},
   "outputs": [],
   "source": [
    "chart(last_fri['time'], last_fri['amount'], 'Среднее кол-во чеков по часам в пятницу', morning(last_fri), day(last_fri))"
   ]
  },
  {
   "cell_type": "markdown",
   "metadata": {},
   "source": [
    "## Аномалии (кол-во чеков) в ПЯТНИЦУ"
   ]
  },
  {
   "cell_type": "markdown",
   "metadata": {},
   "source": [
    "### Первые 3 АЗС"
   ]
  },
  {
   "cell_type": "code",
   "execution_count": 402,
   "metadata": {},
   "outputs": [],
   "source": [
    "# создание таблицы (день:кол-во чеков:час) по каждой пятнице\n",
    "first_fri_full = pd.read_sql(df_full(fri_09, fri_10, fri_11, first), connection)\n",
    "first_fri_full = format_2(first_fri_full)"
   ]
  },
  {
   "cell_type": "code",
   "execution_count": 31,
   "metadata": {},
   "outputs": [],
   "source": [
    "morning_an (first_fri_full)"
   ]
  },
  {
   "cell_type": "code",
   "execution_count": 32,
   "metadata": {},
   "outputs": [],
   "source": [
    "day_an (first_fri_full)"
   ]
  },
  {
   "cell_type": "markdown",
   "metadata": {},
   "source": [
    "### Последние 3 АЗС"
   ]
  },
  {
   "cell_type": "code",
   "execution_count": 405,
   "metadata": {},
   "outputs": [],
   "source": [
    "# создание таблицы (день:кол-во чеков:час) по каждой пятнице\n",
    "last_fri_full = pd.read_sql(df_full(fri_09, fri_10, fri_11, last), connection)\n",
    "last_fri_full = format_2(last_fri_full)"
   ]
  },
  {
   "cell_type": "code",
   "execution_count": 33,
   "metadata": {},
   "outputs": [],
   "source": [
    "morning_an (last_fri_full)"
   ]
  },
  {
   "cell_type": "code",
   "execution_count": 34,
   "metadata": {},
   "outputs": [],
   "source": [
    "day_an (last_fri_full)"
   ]
  },
  {
   "cell_type": "markdown",
   "metadata": {},
   "source": [
    "# СУББОТА"
   ]
  },
  {
   "cell_type": "markdown",
   "metadata": {},
   "source": [
    "## Среднее кол-во чеков по часам в СУББОТУ"
   ]
  },
  {
   "cell_type": "code",
   "execution_count": 408,
   "metadata": {},
   "outputs": [],
   "source": [
    "# субботы за каждый месяц\n",
    "sat_09 = ['03','10','17','24']\n",
    "sat_10 = ['01','08','15','22','29']\n",
    "sat_11 = ['05','12','19','26']"
   ]
  },
  {
   "cell_type": "markdown",
   "metadata": {},
   "source": [
    "### Первые 3 АЗС"
   ]
  },
  {
   "cell_type": "code",
   "execution_count": 409,
   "metadata": {},
   "outputs": [],
   "source": [
    "# Сбор данных за субботы (сумма кол-ва чеков по часам)\n",
    "first_sat = pd.read_sql(df(sat_09, sat_10, sat_11, first), connection)\n",
    "first_sat = format(first_sat)"
   ]
  },
  {
   "cell_type": "code",
   "execution_count": 35,
   "metadata": {},
   "outputs": [],
   "source": [
    "chart(first_sat['time'], first_sat['amount'], 'Среднее кол-во чеков по часам в субботу', morning(first_sat), day(first_sat))"
   ]
  },
  {
   "cell_type": "markdown",
   "metadata": {},
   "source": [
    "### Последние 3 АЗС"
   ]
  },
  {
   "cell_type": "code",
   "execution_count": 411,
   "metadata": {},
   "outputs": [],
   "source": [
    "# Сбор данных за субботы (сумма кол-ва чеков по часам)\n",
    "last_sat = pd.read_sql(df(sat_09, sat_10, sat_11, last), connection)\n",
    "last_sat = format(last_sat)"
   ]
  },
  {
   "cell_type": "code",
   "execution_count": 36,
   "metadata": {},
   "outputs": [],
   "source": [
    "chart(last_sat['time'], last_sat['amount'], 'Среднее кол-во чеков по часам в субботу', morning(last_sat), day(last_sat))"
   ]
  },
  {
   "cell_type": "markdown",
   "metadata": {},
   "source": [
    "## Аномалии (кол-во чеков) в СУББОТУ"
   ]
  },
  {
   "cell_type": "markdown",
   "metadata": {},
   "source": [
    "### Первые 3 АЗС"
   ]
  },
  {
   "cell_type": "code",
   "execution_count": 413,
   "metadata": {},
   "outputs": [],
   "source": [
    "# создание таблицы (день:кол-во чеков:час) по каждой субботе\n",
    "first_sat_full = pd.read_sql(df_full(sat_09, sat_10, sat_11, first), connection)\n",
    "first_sat_full = format_2(first_sat_full)"
   ]
  },
  {
   "cell_type": "code",
   "execution_count": 37,
   "metadata": {},
   "outputs": [],
   "source": [
    "morning_an (first_sat_full)"
   ]
  },
  {
   "cell_type": "code",
   "execution_count": 38,
   "metadata": {},
   "outputs": [],
   "source": [
    "day_an (first_sat_full)"
   ]
  },
  {
   "cell_type": "markdown",
   "metadata": {},
   "source": [
    "### Последние 3 АЗС"
   ]
  },
  {
   "cell_type": "code",
   "execution_count": 416,
   "metadata": {},
   "outputs": [],
   "source": [
    "# создание таблицы (день:кол-во чеков:час) по каждой субботе\n",
    "last_sat_full = pd.read_sql(df_full(sat_09, sat_10, sat_11, last), connection)\n",
    "last_sat_full = format_2(last_sat_full)"
   ]
  },
  {
   "cell_type": "code",
   "execution_count": 39,
   "metadata": {},
   "outputs": [],
   "source": [
    "morning_an (last_sat_full)"
   ]
  },
  {
   "cell_type": "code",
   "execution_count": 40,
   "metadata": {},
   "outputs": [],
   "source": [
    "day_an (last_sat_full)"
   ]
  },
  {
   "cell_type": "markdown",
   "metadata": {},
   "source": [
    "# ВОСКРЕСЕНЬЕ"
   ]
  },
  {
   "cell_type": "markdown",
   "metadata": {},
   "source": [
    "## Среднее кол-во чеков по часам в ВОСКРЕСЕНЬЕ"
   ]
  },
  {
   "cell_type": "code",
   "execution_count": 419,
   "metadata": {},
   "outputs": [],
   "source": [
    "# воскресенья за каждый месяц\n",
    "sun_09 = ['04','11','18','25']\n",
    "sun_10 = ['02','09','16','23','30']\n",
    "sun_11 = ['06','13','20','27']"
   ]
  },
  {
   "cell_type": "markdown",
   "metadata": {},
   "source": [
    "### Первые 3 АЗС"
   ]
  },
  {
   "cell_type": "code",
   "execution_count": 420,
   "metadata": {},
   "outputs": [],
   "source": [
    "# Сбор данных за воскресенья (сумма кол-ва чеков по часам)\n",
    "first_sun = pd.read_sql(df(sun_09, sun_10, sun_11, first), connection)\n",
    "first_sun = format(first_sun)"
   ]
  },
  {
   "cell_type": "code",
   "execution_count": 41,
   "metadata": {},
   "outputs": [],
   "source": [
    "chart(first_sun['time'], first_sun['amount'], 'Среднее кол-во чеков по часам в воскресенье', morning(first_sun), day(first_sun))"
   ]
  },
  {
   "cell_type": "markdown",
   "metadata": {},
   "source": [
    "### Последние 3 АЗС"
   ]
  },
  {
   "cell_type": "code",
   "execution_count": 422,
   "metadata": {},
   "outputs": [],
   "source": [
    "# Сбор данных за воскресенья (сумма кол-ва чеков по часам)\n",
    "last_sun = pd.read_sql(df(sun_09, sun_10, sun_11, last), connection)\n",
    "last_sun = format(last_sun)"
   ]
  },
  {
   "cell_type": "code",
   "execution_count": 42,
   "metadata": {},
   "outputs": [],
   "source": [
    "chart(last_sun['time'], last_sun['amount'], 'Среднее кол-во чеков по часам в воскресенье', morning(last_sun), day(last_sun))"
   ]
  },
  {
   "cell_type": "markdown",
   "metadata": {},
   "source": [
    "## Аномалии (кол-во чеков) в ВОСКРЕСЕНЬЕ"
   ]
  },
  {
   "cell_type": "markdown",
   "metadata": {},
   "source": [
    "### Первые 3 АЗС"
   ]
  },
  {
   "cell_type": "code",
   "execution_count": 424,
   "metadata": {},
   "outputs": [],
   "source": [
    "# создание таблицы (день:кол-во чеков:час) по каждому воскресенью\n",
    "first_sun_full = pd.read_sql(df_full(sun_09, sun_10, sun_11, first), connection)\n",
    "first_sun_full = format_2(first_sun_full)"
   ]
  },
  {
   "cell_type": "code",
   "execution_count": 43,
   "metadata": {},
   "outputs": [],
   "source": [
    "morning_an (first_sun_full)"
   ]
  },
  {
   "cell_type": "code",
   "execution_count": 44,
   "metadata": {},
   "outputs": [],
   "source": [
    "day_an (first_sun_full)"
   ]
  },
  {
   "cell_type": "markdown",
   "metadata": {},
   "source": [
    "### Последние 3 АЗС"
   ]
  },
  {
   "cell_type": "code",
   "execution_count": 427,
   "metadata": {},
   "outputs": [],
   "source": [
    "# создание таблицы (день:кол-во чеков:час) по каждому воскресенью\n",
    "last_sun_full = pd.read_sql(df_full(sun_09, sun_10, sun_11, last), connection)\n",
    "last_sun_full = format_2(last_sun_full)"
   ]
  }
 ],
 "metadata": {
  "kernelspec": {
   "display_name": "Python 3 (ipykernel)",
   "language": "python",
   "name": "python3"
  },
  "language_info": {
   "codemirror_mode": {
    "name": "ipython",
    "version": 3
   },
   "file_extension": ".py",
   "mimetype": "text/x-python",
   "name": "python",
   "nbconvert_exporter": "python",
   "pygments_lexer": "ipython3",
   "version": "3.9.12"
  },
  "vscode": {
   "interpreter": {
    "hash": "63fc7e0a25045952860f0f92256cb7c51673d0e68300d5403299f8c0bae9b1d4"
   }
  }
 },
 "nbformat": 4,
 "nbformat_minor": 2
}
