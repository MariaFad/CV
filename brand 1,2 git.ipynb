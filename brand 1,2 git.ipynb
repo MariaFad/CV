{
 "cells": [
  {
   "attachments": {},
   "cell_type": "markdown",
   "id": "a2b9f132",
   "metadata": {},
   "source": [
    "### Experiments (t-tests) were conducted at gas stations with __brand 1 (predicted consumption of brand 1 based on past data)__ and  __brand 2 (consumption at the moment)__"
   ]
  },
  {
   "cell_type": "markdown",
   "id": "1995f9a3",
   "metadata": {},
   "source": [
    "# Data 2021 (seasonal coef)"
   ]
  },
  {
   "cell_type": "code",
   "execution_count": 50,
   "id": "dfb8172c",
   "metadata": {},
   "outputs": [],
   "source": [
    "import pandas as pd\n",
    "import numpy as np\n",
    "import matplotlib\n",
    "import matplotlib.pyplot as plt\n",
    "from sklearn import datasets\n",
    "import seaborn as sns\n",
    "\n",
    "import scipy.stats as stats\n",
    "from scipy.stats import uniform, binom, norm, kstest, shapiro \n",
    "\n",
    "import statsmodels.api as sm\n",
    "\n",
    "import warnings\n",
    "warnings.filterwarnings('ignore')\n"
   ]
  },
  {
   "cell_type": "code",
   "execution_count": 51,
   "id": "aad7cda9",
   "metadata": {},
   "outputs": [],
   "source": [
    "dfbrand1_2156 = pd.read_sql('''\n",
    "select discount_card_info, sum(quantity) as goods, count(distinct cheque_id) as cheks\n",
    "from \n",
    "(select * from pet.pet_0321\n",
    "union all\n",
    "select * from pet.pet_0421\n",
    "union all\n",
    "select * from pet.pet_0521) pet\n",
    "where discount_card_info is not null\n",
    "and cheque_type=0\n",
    "and pet.volume is null\n",
    "and pet.org_ksss in (159202, 159203, 63604, 104801, 5072, 3247, 5045, 9313, 9312, 9311)\n",
    "and pet.gds_ksss in (3248159, 3248135, 3248083, 3248079, 3248078, 3248082, 3248081, 3248066, 3248067, 3248065, 3248071, 3248068)\n",
    "group by discount_card_info\n",
    "''', connection)"
   ]
  },
  {
   "cell_type": "code",
   "execution_count": 52,
   "id": "dc65bde0",
   "metadata": {},
   "outputs": [],
   "source": [
    "dfbrand1_21789 = pd.read_sql('''\n",
    "select discount_card_info, sum(quantity) as goods, count(distinct cheque_id) as cheks\n",
    "from \n",
    "(select * from pet.pet_0721\n",
    "union all\n",
    "select * from pet.pet_0821\n",
    "union all \n",
    "select * from pet.pet_0921) pet\n",
    "where discount_card_info is not null\n",
    "and cheque_type=0\n",
    "and pet.volume is null\n",
    "and pet.org_ksss in ('159202', '159203', '63604', '104801', '5072', '3247', '5045', '9313', '9312', '9311')\n",
    "and pet.gds_ksss in (3248159, 3248135, 3248083, 3248079, 3248078, 3248082, 3248081, 3248066, 3248067, 3248065, 3248071, 3248068)\n",
    "group by discount_card_info\n",
    "''', connection)"
   ]
  },
  {
   "cell_type": "markdown",
   "id": "febc1a0d",
   "metadata": {},
   "source": [
    "## Deleting outliers"
   ]
  },
  {
   "cell_type": "code",
   "execution_count": 53,
   "id": "010b3dc3",
   "metadata": {},
   "outputs": [],
   "source": [
    "dfbrand1_2156 = dfbrand1_2156[dfbrand1_2156['goods'] <= np.quantile(dfbrand1_2156['goods'],0.95)]\n",
    "dfbrand1_21789 = dfbrand1_21789[dfbrand1_21789['goods'] <= np.quantile(dfbrand1_21789['goods'],0.95)]\n",
    "dfbrand1_2156 = dfbrand1_2156[dfbrand1_2156['cheks'] <= np.quantile(dfbrand1_2156['cheks'],0.95)]\n",
    "dfbrand1_21789 = dfbrand1_21789[dfbrand1_21789['cheks'] <= np.quantile(dfbrand1_21789['cheks'],0.95)]"
   ]
  },
  {
   "attachments": {},
   "cell_type": "markdown",
   "id": "28c87907",
   "metadata": {},
   "source": [
    "## Seasonality in the number of goods and checks"
   ]
  },
  {
   "cell_type": "code",
   "execution_count": 54,
   "id": "4fc9c3f6",
   "metadata": {},
   "outputs": [],
   "source": [
    "coefgoods=dfbrand1_21789['goods'].sum()/dfbrand1_2156['goods'].sum()\n",
    "coefcheks=dfbrand1_21789['cheks'].sum()/dfbrand1_2156['cheks'].sum()"
   ]
  },
  {
   "cell_type": "markdown",
   "id": "25fc02a1",
   "metadata": {},
   "source": [
    "# Data 2022 (05-06, 07-08-09)"
   ]
  },
  {
   "cell_type": "code",
   "execution_count": 57,
   "id": "4e956147",
   "metadata": {},
   "outputs": [],
   "source": [
    "dfbrand1_2256 = pd.read_sql('''\n",
    "select distinct discount_card_info, sum(case when\n",
    "                               pet.gds_ksss in (3248159, 3248135, 3248083, 3248079, 3248078, 3248082, 3248081, 3248066, 3248067, 3248065, 3248071, 3248068)\n",
    "                               then quantity else 0 end) as goods_brand1,\n",
    "                           count(distinct case when  \n",
    "                               pet.gds_ksss in (3248159, 3248135, 3248083, 3248079, 3248078, 3248082, 3248081, 3248066, 3248067, 3248065, 3248071, 3248068)\n",
    "                               then cheque_id else null end) as cheks_brand1,\n",
    "                           sum(case when\n",
    "                               pet.gds_ksss in (3438463, 3438468, 3438462, 3438464, 3438460, 3438459, 3438461, 3438451, 3438450, 3439617, 3438457, 3438456,\n",
    "3438458, 3438447, 3438446, 3438448, 3438443, 3438442, 3438444, 3438449)\n",
    "                               then quantity else 0 end) as goods_brand2,\n",
    "                           count(distinct case when \n",
    "                               pet.gds_ksss in (3438463, 3438468, 3438462, 3438464, 3438460, 3438459, 3438461, 3438451, 3438450, 3439617, 3438457, 3438456,\n",
    "3438458, 3438447, 3438446, 3438448, 3438443, 3438442, 3438444, 3438449)\n",
    "                               then cheque_id else null end) as cheks_brand2\n",
    "from\n",
    "(select * from pet.pet_0322\n",
    "union all\n",
    "select * from pet.pet_0422\n",
    "union all\n",
    "select * from pet.pet_0522) pet\n",
    "where discount_card_info is not null \n",
    "and cheque_type=0 \n",
    "and pet.volume is null \n",
    "and pet.org_ksss in (159202, 159203, 63604, 104801, 5072, 3247, 5045, 9313, 9312, 9311)\n",
    "and discount_card_info in\n",
    "(select distinct discount_card_info\n",
    " from \n",
    "(select distinct discount_card_info\n",
    "from \n",
    "(select * from pet.pet_0322\n",
    "union all\n",
    "select * from pet.pet_0422\n",
    "union all\n",
    "select * from pet.pet_0522) pet\n",
    "where discount_card_info is not null\n",
    "and cheque_type=0\n",
    "and pet.volume is null\n",
    "and pet.org_ksss in (159202, 159203, 63604, 104801, 5072, 3247, 5045, 9313, 9312, 9311)\n",
    "and pet.gds_ksss in (3248159, 3248135, 3248083, 3248079, 3248078, 3248082, 3248081, 3248066, 3248067, 3248065, 3248071, 3248068, 3438463, 3438468, 3438462, 3438464, 3438460, 3438459, 3438461, 3438451, 3438450, 3439617, 3438457, 3438456,\n",
    "3438458, 3438447, 3438446, 3438448, 3438443, 3438442, 3438444, 3438449)) a\n",
    "inner join\n",
    "(select distinct discount_card_info\n",
    "from \n",
    "(select * from pet.pet_0722\n",
    "union all\n",
    "select * from pet.pet_0822\n",
    "union all \n",
    "select * from pet.pet_0922) pet\n",
    "where discount_card_info is not null\n",
    "and cheque_type=0\n",
    "and pet.volume is null\n",
    "and pet.org_ksss in (159202, 159203, 63604, 104801, 5072, 3247, 5045, 9313, 9312, 9311)\n",
    "and pet.gds_ksss in (3248159, 3248135, 3248083, 3248079, 3248078, 3248082, 3248081, 3248066, 3248067, 3248065, 3248071, 3248068, 3438463, 3438468, 3438462, 3438464, 3438460, 3438459, 3438461, 3438451, 3438450, 3439617, 3438457, 3438456,\n",
    "3438458, 3438447, 3438446, 3438448, 3438443, 3438442, 3438444, 3438449)) b\n",
    "using (discount_card_info) )\n",
    "group by discount_card_info \n",
    "''', connection)"
   ]
  },
  {
   "cell_type": "code",
   "execution_count": 58,
   "id": "49fb4513",
   "metadata": {},
   "outputs": [],
   "source": [
    "dfbrand2_22789 = pd.read_sql('''\n",
    "select distinct discount_card_info, sum(case when\n",
    "                               pet.gds_ksss in (3248159, 3248135, 3248083, 3248079, 3248078, 3248082, 3248081, 3248066, 3248067, 3248065, 3248071, 3248068)\n",
    "                               then quantity else 0 end) as goods_brand1,\n",
    "                           count(distinct case when  \n",
    "                               pet.gds_ksss in (3248159, 3248135, 3248083, 3248079, 3248078, 3248082, 3248081, 3248066, 3248067, 3248065, 3248071, 3248068)\n",
    "                               then cheque_id else null end) as cheks_brand1,\n",
    "                           sum(case when\n",
    "                               pet.gds_ksss in (3438463, 3438468, 3438462, 3438464, 3438460, 3438459, 3438461, 3438451, 3438450, 3439617, 3438457, 3438456,\n",
    "3438458, 3438447, 3438446, 3438448, 3438443, 3438442, 3438444, 3438449)\n",
    "                               then quantity else 0 end) as goods1,\n",
    "                           count(distinct case when \n",
    "                               pet.gds_ksss in (3438463, 3438468, 3438462, 3438464, 3438460, 3438459, 3438461, 3438451, 3438450, 3439617, 3438457, 3438456,\n",
    "3438458, 3438447, 3438446, 3438448, 3438443, 3438442, 3438444, 3438449)\n",
    "                               then cheque_id else null end) as cheks1\n",
    "from\n",
    "(select * from pet.pet_0722\n",
    "union all\n",
    "select * from pet.pet_0822\n",
    "union all\n",
    "select * from pet.pet_0922) pet\n",
    "where discount_card_info is not null \n",
    "and cheque_type=0 \n",
    "and pet.volume is null \n",
    "and pet.org_ksss in (159202, 159203, 63604, 104801, 5072, 3247, 5045, 9313, 9312, 9311)\n",
    "and discount_card_info in\n",
    "(select distinct discount_card_info\n",
    " from \n",
    "(select distinct discount_card_info\n",
    "from \n",
    "(select * from pet.pet_0322\n",
    "union all\n",
    "select * from pet.pet_0422\n",
    "union all\n",
    "select * from pet.pet_0522) pet\n",
    "where discount_card_info is not null\n",
    "and cheque_type=0\n",
    "and pet.volume is null\n",
    "and pet.org_ksss in (159202, 159203, 63604, 104801, 5072, 3247, 5045, 9313, 9312, 9311)\n",
    "and pet.gds_ksss in (3248159, 3248135, 3248083, 3248079, 3248078, 3248082, 3248081, 3248066, 3248067, 3248065, 3248071, 3248068, 3438463, 3438468, 3438462, 3438464, 3438460, 3438459, 3438461, 3438451, 3438450, 3439617, 3438457, 3438456,\n",
    "3438458, 3438447, 3438446, 3438448, 3438443, 3438442, 3438444, 3438449)) a\n",
    "inner join\n",
    "(select distinct discount_card_info\n",
    "from \n",
    "(select * from pet.pet_0722\n",
    "union all\n",
    "select * from pet.pet_0822\n",
    "union all \n",
    "select * from pet.pet_0922) pet\n",
    "where discount_card_info is not null\n",
    "and cheque_type=0\n",
    "and pet.volume is null\n",
    "and pet.org_ksss in (159202, 159203, 63604, 104801, 5072, 3247, 5045, 9313, 9312, 9311)\n",
    "and pet.gds_ksss in (3248159, 3248135, 3248083, 3248079, 3248078, 3248082, 3248081, 3248066, 3248067, 3248065, 3248071, 3248068, 3438463, 3438468, 3438462, 3438464, 3438460, 3438459, 3438461, 3438451, 3438450, 3439617, 3438457, 3438456,\n",
    "3438458, 3438447, 3438446, 3438448, 3438443, 3438442, 3438444, 3438449)) b\n",
    "using (discount_card_info) )\n",
    "group by discount_card_info \n",
    "''', connection)"
   ]
  },
  {
   "cell_type": "markdown",
   "id": "4a7da7ea",
   "metadata": {},
   "source": [
    "## Deleting outliers "
   ]
  },
  {
   "cell_type": "code",
   "execution_count": 59,
   "id": "42f479e4",
   "metadata": {},
   "outputs": [],
   "source": [
    "dfbrand1_2256 = dfbrand1_2256[dfbrand1_2256['goods_brand1'] <= np.quantile(dfbrand1_2256['goods_brand1'],0.95)]\n",
    "dfbrand2_22789 = dfbrand2_22789[dfbrand2_22789['goods1'] <= np.quantile(dfbrand2_22789['goods1'],0.95)]\n",
    "dfbrand1_2256 = dfbrand1_2256[dfbrand1_2256['cheks_brand1'] <= np.quantile(dfbrand1_2256['cheks_brand1'],0.95)]\n",
    "dfbrand2_22789 = dfbrand2_22789[dfbrand2_22789['cheks1'] <= np.quantile(dfbrand2_22789['cheks1'],0.95)]"
   ]
  },
  {
   "cell_type": "markdown",
   "id": "c2261a07",
   "metadata": {},
   "source": [
    "## Adding coef to brand1 dataset (suggesting brand1 07-08-09) and deleting data without coef"
   ]
  },
  {
   "cell_type": "code",
   "execution_count": 62,
   "id": "72160cb4",
   "metadata": {},
   "outputs": [],
   "source": [
    "dfbrand1_2256['goods1'] = dfbrand1_2256['goods_brand1']*coefgoods\n",
    "dfbrand1_2256['cheks1'] = dfbrand1_2256['cheks_brand1']*coefcheks"
   ]
  },
  {
   "cell_type": "code",
   "execution_count": 63,
   "id": "0a06bbf1",
   "metadata": {},
   "outputs": [],
   "source": [
    "dfbrand1_2256 = dfbrand1_2256.drop(['goods_brand1','cheks_brand1'], axis = 1)"
   ]
  },
  {
   "cell_type": "markdown",
   "id": "f9113fa6",
   "metadata": {},
   "source": [
    "## Adding labels"
   ]
  },
  {
   "cell_type": "code",
   "execution_count": 64,
   "id": "9b56f0a0",
   "metadata": {},
   "outputs": [],
   "source": [
    "dfbrand1_2256['label']=0\n",
    "dfbrand2_22789['label']=1\n",
    "data22 = pd.concat([dfbrand1_2256,dfbrand2_22789], axis = 0, ignore_index = True)"
   ]
  },
  {
   "cell_type": "markdown",
   "id": "c15d127c",
   "metadata": {},
   "source": [
    "# Comparing brand1 07-08-09 (predicted) and brand2 07-08-09 (real)"
   ]
  },
  {
   "cell_type": "code",
   "execution_count": null,
   "id": "9842c8fa",
   "metadata": {},
   "outputs": [],
   "source": [
    "# sns.set(rc={'figure.figsize':(11.7,8.27)})\n",
    "groups = sns.histplot( data = data22,\n",
    "                    x = 'goods1',\n",
    "                    hue = 'label',\n",
    "                    palette = ['r', 'b'],\n",
    "                    alpha=0.5,\n",
    "                    kde=True)\n",
    "plt.show()"
   ]
  },
  {
   "cell_type": "code",
   "execution_count": 1,
   "id": "624324ab",
   "metadata": {},
   "outputs": [],
   "source": [
    "sns.set(rc={'figure.figsize':(11.7,8.27)})\n",
    "groups = sns.histplot( data = data22,\n",
    "                    x = 'cheks1',\n",
    "                    hue = 'label',\n",
    "                    palette = ['r', 'b'],\n",
    "                    alpha=0.5,\n",
    "                    kde=True)\n",
    "plt.show()"
   ]
  },
  {
   "attachments": {},
   "cell_type": "markdown",
   "id": "e3e3edb8",
   "metadata": {},
   "source": [
    "## t-test based on goods"
   ]
  },
  {
   "cell_type": "code",
   "execution_count": 69,
   "id": "8d1908b4",
   "metadata": {},
   "outputs": [
    {
     "data": {
      "text/plain": [
       "KstestResult(statistic=0.7714658600640135, pvalue=0.0)"
      ]
     },
     "execution_count": 69,
     "metadata": {},
     "output_type": "execute_result"
    }
   ],
   "source": [
    "kstest(dfbrand1_2256['goods1'], 'norm')"
   ]
  },
  {
   "cell_type": "code",
   "execution_count": 70,
   "id": "9bd23b24",
   "metadata": {},
   "outputs": [
    {
     "data": {
      "text/plain": [
       "KstestResult(statistic=0.8413447460685429, pvalue=0.0)"
      ]
     },
     "execution_count": 70,
     "metadata": {},
     "output_type": "execute_result"
    }
   ],
   "source": [
    "kstest(dfbrand2_22789['goods1'], 'norm')"
   ]
  },
  {
   "cell_type": "code",
   "execution_count": 71,
   "id": "fa4447e3",
   "metadata": {},
   "outputs": [
    {
     "name": "stdout",
     "output_type": "stream",
     "text": [
      "Two Sample t-test\n",
      "t = -5.827168052505521\n",
      "p-value = 6.161048001147867e-09\n",
      "df =  3413.0\n"
     ]
    }
   ],
   "source": [
    "res = sm.stats.ttest_ind(dfbrand1_2256['goods1'], dfbrand2_22789['goods1'])\n",
    "print(\"Two Sample t-test\")\n",
    "print(\"t =\", res[0])\n",
    "print(\"p-value =\", res[1])\n",
    "print(\"df = \", res[2])\n",
    "\n",
    "if res[1] > 0.05:\n",
    "    print('There is a statistical significance. There is a difference between products sold in 2 expirements')\n",
    "else: \n",
    "    print('There is no statistical significance. There is no difference between products sold in 2 expirements')"
   ]
  },
  {
   "attachments": {},
   "cell_type": "markdown",
   "id": "1da0f594",
   "metadata": {},
   "source": [
    "## t-test based on cheks"
   ]
  },
  {
   "cell_type": "code",
   "execution_count": 72,
   "id": "7fbe9e5f",
   "metadata": {},
   "outputs": [
    {
     "data": {
      "text/plain": [
       "KstestResult(statistic=0.7723212343502035, pvalue=0.0)"
      ]
     },
     "execution_count": 72,
     "metadata": {},
     "output_type": "execute_result"
    }
   ],
   "source": [
    "kstest(dfbrand1_2256['cheks1'], 'norm')"
   ]
  },
  {
   "cell_type": "code",
   "execution_count": 73,
   "id": "218fddc0",
   "metadata": {},
   "outputs": [
    {
     "data": {
      "text/plain": [
       "KstestResult(statistic=0.8413447460685429, pvalue=0.0)"
      ]
     },
     "execution_count": 73,
     "metadata": {},
     "output_type": "execute_result"
    }
   ],
   "source": [
    "kstest(dfbrand2_22789['cheks1'], 'norm')"
   ]
  },
  {
   "cell_type": "code",
   "execution_count": 74,
   "id": "44179569",
   "metadata": {},
   "outputs": [
    {
     "name": "stdout",
     "output_type": "stream",
     "text": [
      "Two Sample t-test\n",
      "t = -6.243432169216756\n",
      "p-value = 4.807604889083429e-10\n",
      "df =  3413.0\n"
     ]
    }
   ],
   "source": [
    "res = sm.stats.ttest_ind(dfbrand1_2256['cheks1'], dfbrand2_22789['cheks1'])\n",
    "print(\"Two Sample t-test\")\n",
    "print(\"t =\", res[0])\n",
    "print(\"p-value =\", res[1])\n",
    "print(\"df = \", res[2])\n",
    "\n",
    "if res[1] > 0.05:\n",
    "    print('There is a statistical significance. There is a difference between average checks in 2 expirements')\n",
    "else: \n",
    "    print('There is no statistical significance. There is no difference between average checks in 2 expirements')"
   ]
  }
 ],
 "metadata": {
  "kernelspec": {
   "display_name": "Python 3",
   "language": "python",
   "name": "python3"
  },
  "language_info": {
   "codemirror_mode": {
    "name": "ipython",
    "version": 3
   },
   "file_extension": ".py",
   "mimetype": "text/x-python",
   "name": "python",
   "nbconvert_exporter": "python",
   "pygments_lexer": "ipython3",
   "version": "3.9.13 (main, Aug 25 2022, 23:51:50) [MSC v.1916 64 bit (AMD64)]"
  },
  "vscode": {
   "interpreter": {
    "hash": "63fc7e0a25045952860f0f92256cb7c51673d0e68300d5403299f8c0bae9b1d4"
   }
  }
 },
 "nbformat": 4,
 "nbformat_minor": 5
}
